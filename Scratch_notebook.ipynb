{
  "nbformat": 4,
  "nbformat_minor": 0,
  "metadata": {
    "kernelspec": {
      "display_name": "Python 3",
      "language": "python",
      "name": "python3"
    },
    "language_info": {
      "codemirror_mode": {
        "name": "ipython",
        "version": 3
      },
      "file_extension": ".py",
      "mimetype": "text/x-python",
      "name": "python",
      "nbconvert_exporter": "python",
      "pygments_lexer": "ipython3",
      "version": "3.6.3"
    },
    "colab": {
      "name": "Scratch_notebook.ipynb",
      "provenance": [],
      "include_colab_link": true
    }
  },
  "cells": [
    {
      "cell_type": "markdown",
      "metadata": {
        "id": "view-in-github",
        "colab_type": "text"
      },
      "source": [
        "<a href=\"https://colab.research.google.com/github/DonnaVakalis/nano/blob/master/Scratch_notebook.ipynb\" target=\"_parent\"><img src=\"https://colab.research.google.com/assets/colab-badge.svg\" alt=\"Open In Colab\"/></a>"
      ]
    },
    {
      "cell_type": "markdown",
      "metadata": {
        "id": "aIq2MoYCwKQZ"
      },
      "source": [
        "## Exercises from Python for Data Science\n",
        "\n",
        " \n",
        "\n",
        "## Table of Contents\n",
        "- [Part I - Environment Setup](#setup)\n",
        "- [Part II - Data Structures](#dta_struct)\n",
        "- [Part III - Control Flow](#control_flow)\n",
        "- [Part IV - Functions](#functions)\n",
        "- [Part V - Scripting](#scripting)\n",
        "- [Part VI - Numpy and Pandas](#np_pd)\n",
        "- [Part VII - Generators](#generators)\n",
        "\n",
        " \n",
        "<a id='setup'></a>\n",
        "#### Part I - Environment Setup"
      ]
    },
    {
      "cell_type": "code",
      "metadata": {
        "id": "8ejm2eFHwKQc"
      },
      "source": [
        "import pandas as pd\n",
        "import numpy as np\n",
        "import os\n",
        "from google.colab import drive\n",
        "%matplotlib inline\n",
        "\n",
        "# Mount Google Drive\n",
        "drive.mount('/content/gdrive')\n",
        "os.chdir(\"/content/gdrive/My Drive/\")\n",
        "\n",
        "base_dir =  \"/content/gdrive/My Drive/Colab Notebooks/Udacity_DataScience/\""
      ],
      "execution_count": null,
      "outputs": []
    },
    {
      "cell_type": "markdown",
      "metadata": {
        "id": "_E0WHWP-wKRv"
      },
      "source": [
        "<a id='dta_struct'></a>\n",
        "### Part II - Data Structure Exercises\n",
        "\n",
        " "
      ]
    },
    {
      "cell_type": "code",
      "metadata": {
        "id": "GBjRsF-gjNAU",
        "colab": {
          "base_uri": "https://localhost:8080/"
        },
        "outputId": "3841f36d-4347-4236-d33c-6f5296810f33"
      },
      "source": [
        "# E1 Your task for this quiz is to find the number of unique words in the text.\n",
        "\n",
        "verse = \"if you can keep your head when all about you are losing theirs and blaming it on you   if you can trust yourself when all men doubt you     but make allowance for their doubting too   if you can wait and not be tired by waiting      or being lied about  don’t deal in lies   or being hated  don’t give way to hating      and yet don’t look too good  nor talk too wise\"\n",
        "print(verse, '\\n')\n",
        "\n",
        "# split verse into list of words\n",
        "verse_list = verse.split()\n",
        "\n",
        "# convert list to a data structure that stores unique elements\n",
        "verse_set = set(verse_list)\n",
        "print(verse_set, '\\n')\n",
        "\n",
        "# print the number of unique words\n",
        "num_unique = len(verse_set)\n",
        "print(num_unique, '\\n')\n",
        " "
      ],
      "execution_count": null,
      "outputs": [
        {
          "output_type": "stream",
          "text": [
            "if you can keep your head when all about you are losing theirs and blaming it on you   if you can trust yourself when all men doubt you     but make allowance for their doubting too   if you can wait and not be tired by waiting      or being lied about  don’t deal in lies   or being hated  don’t give way to hating      and yet don’t look too good  nor talk too wise \n",
            "\n",
            "{'keep', 'you', 'too', 'are', 'by', 'men', 'being', 'on', 'about', 'trust', 'allowance', 'good', 'losing', 'make', 'waiting', 'yet', 'yourself', 'deal', 'their', 'head', 'don’t', 'lies', 'hated', 'blaming', 'it', 'when', 'wait', 'lied', 'your', 'look', 'hating', 'for', 'to', 'theirs', 'or', 'all', 'tired', 'nor', 'can', 'doubt', 'talk', 'but', 'doubting', 'give', 'not', 'and', 'wise', 'way', 'in', 'if', 'be'} \n",
            "\n",
            "51 \n",
            "\n"
          ],
          "name": "stdout"
        }
      ]
    },
    {
      "cell_type": "code",
      "metadata": {
        "id": "m-pDtlEfkZwa",
        "colab": {
          "base_uri": "https://localhost:8080/"
        },
        "outputId": "989944ab-9f34-4fda-d111-20296670fe10"
      },
      "source": [
        "#E2 Quiz:  Use this verse dictionary below to answer the following questions... \r\n",
        "\r\n",
        "verse_dict =  {'if': 3, 'you': 6, 'can': 3, 'keep': 1, 'your': 1, 'head': 1, 'when': 2, 'all': 2, 'about': 2, 'are': 1, 'losing': 1, 'theirs': 1, 'and': 3, 'blaming': 1, 'it': 1, 'on': 1, 'trust': 1, 'yourself': 1, 'men': 1, 'doubt': 1, 'but': 1, 'make': 1, 'allowance': 1, 'for': 1, 'their': 1, 'doubting': 1, 'too': 3, 'wait': 1, 'not': 1, 'be': 1, 'tired': 1, 'by': 1, 'waiting': 1, 'or': 2, 'being': 2, 'lied': 1, 'don\\'t': 3, 'deal': 1, 'in': 1, 'lies': 1, 'hated': 1, 'give': 1, 'way': 1, 'to': 1, 'hating': 1, 'yet': 1, 'look': 1, 'good': 1, 'nor': 1, 'talk': 1, 'wise': 1}\r\n",
        "print(verse_dict, '\\n')\r\n",
        "\r\n",
        "# find number of unique keys in the dictionary\r\n",
        "num_keys = len(verse_dict)\r\n",
        "print(num_keys)\r\n",
        "\r\n",
        "# find whether 'breathe' is a key in the dictionary\r\n",
        "contains_breathe = 'breathe' in verse_dict\r\n",
        "print(contains_breathe)\r\n",
        "\r\n",
        "# create and sort a list of the dictionary's keys\r\n",
        "sorted_keys =  sorted(verse_dict.keys())\r\n",
        "\r\n",
        "# get the first element in the sorted list of keys\r\n",
        "print(sorted_keys[0])\r\n",
        "\r\n",
        "# find the element with the highest value in the list of keys\r\n",
        "print(max(sorted_keys)) "
      ],
      "execution_count": null,
      "outputs": [
        {
          "output_type": "stream",
          "text": [
            "{'if': 3, 'you': 6, 'can': 3, 'keep': 1, 'your': 1, 'head': 1, 'when': 2, 'all': 2, 'about': 2, 'are': 1, 'losing': 1, 'theirs': 1, 'and': 3, 'blaming': 1, 'it': 1, 'on': 1, 'trust': 1, 'yourself': 1, 'men': 1, 'doubt': 1, 'but': 1, 'make': 1, 'allowance': 1, 'for': 1, 'their': 1, 'doubting': 1, 'too': 3, 'wait': 1, 'not': 1, 'be': 1, 'tired': 1, 'by': 1, 'waiting': 1, 'or': 2, 'being': 2, 'lied': 1, \"don't\": 3, 'deal': 1, 'in': 1, 'lies': 1, 'hated': 1, 'give': 1, 'way': 1, 'to': 1, 'hating': 1, 'yet': 1, 'look': 1, 'good': 1, 'nor': 1, 'talk': 1, 'wise': 1} \n",
            "\n",
            "51\n",
            "False\n",
            "about\n",
            "yourself\n"
          ],
          "name": "stdout"
        }
      ]
    },
    {
      "cell_type": "markdown",
      "metadata": {
        "id": "yAeMby4dwKSe"
      },
      "source": [
        "<a id='control_flow'></a>\n",
        "### Part III - Control Flow Exercises\n",
        "\n",
        " "
      ]
    },
    {
      "cell_type": "code",
      "metadata": {
        "id": "BuukiLc0wKS6"
      },
      "source": [
        "#E1 Write a for loop that iterates over the names list to create a usernames list. To create a username for each name, make everything lowercase and replace spaces with underscores. Running your for loop over the list:\n",
        "# names = [\"Joey Tribbiani\", \"Monica Geller\", \"Chandler Bing\", \"Phoebe Buffay\"]\n",
        "\n",
        "\n",
        "# define initial input and initialize empty new list\n",
        "names = [\"Joey Tribbiani\", \"Monica Geller\", \"Chandler Bing\", \"Phoebe Buffay\"]\n",
        "usernames = []\n",
        "\n",
        "# apply two modifications to each entry in original list\n",
        "for name in names:\n",
        "  alias = name.replace(\" \",\"_\").lower()\n",
        "  usernames.append(alias)\n",
        "\n",
        "print(usernames)"
      ],
      "execution_count": null,
      "outputs": []
    },
    {
      "cell_type": "code",
      "metadata": {
        "id": "0J4ybxCZyPYm"
      },
      "source": [
        "#E2 Write a for loop that iterates over a list of strings, tokens, and counts how many of them are XML tags.  Keep track of the number of tags using the variable count.\r\n",
        "\r\n",
        "tokens = ['<greeting>', 'Hello World!', '</greeting>']\r\n",
        "count = 0\r\n",
        "\r\n",
        "# write your for loop here\r\n",
        "for token in tokens:\r\n",
        "    if token.startswith('<') and token.endswith('>'):\r\n",
        "        count += 1\r\n",
        "    \r\n",
        "\r\n",
        "print(count)"
      ],
      "execution_count": null,
      "outputs": []
    }
  ]
}