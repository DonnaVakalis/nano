{
  "nbformat": 4,
  "nbformat_minor": 0,
  "metadata": {
    "kernelspec": {
      "display_name": "Python 3",
      "language": "python",
      "name": "python3"
    },
    "language_info": {
      "codemirror_mode": {
        "name": "ipython",
        "version": 3
      },
      "file_extension": ".py",
      "mimetype": "text/x-python",
      "name": "python",
      "nbconvert_exporter": "python",
      "pygments_lexer": "ipython3",
      "version": "3.6.3"
    },
    "colab": {
      "name": "Scratch_notebook.ipynb",
      "provenance": [],
      "include_colab_link": true
    }
  },
  "cells": [
    {
      "cell_type": "markdown",
      "metadata": {
        "id": "view-in-github",
        "colab_type": "text"
      },
      "source": [
        "<a href=\"https://colab.research.google.com/github/DonnaVakalis/nano/blob/master/Scratch_notebook.ipynb\" target=\"_parent\"><img src=\"https://colab.research.google.com/assets/colab-badge.svg\" alt=\"Open In Colab\"/></a>"
      ]
    },
    {
      "cell_type": "markdown",
      "metadata": {
        "id": "aIq2MoYCwKQZ"
      },
      "source": [
        "## Exercises from Python for Data Science\n",
        "\n",
        " \n",
        "\n",
        "## Table of Contents\n",
        "- [Part I - Environment Setup](#setup)\n",
        "- [Part II - Data Structures](#dta_struct)\n",
        "- [Part III - Control Flow](#control_flow)\n",
        "- [Part IV - Functions](#functions)\n",
        "- [Part V - Scripting](#scripting)\n",
        "- [Part VI - Numpy and Pandas](#np_pd)\n",
        "- [Part VII - Generators](#generators)\n",
        "\n",
        " \n",
        "<a id='setup'></a>\n",
        "#### Part I - Environment Setup"
      ]
    },
    {
      "cell_type": "code",
      "metadata": {
        "id": "8ejm2eFHwKQc",
        "colab": {
          "base_uri": "https://localhost:8080/"
        },
        "outputId": "eb508a12-53c2-4a8a-9d00-a42cbf7cf8f8"
      },
      "source": [
        "import pandas as pd\n",
        "import numpy as np\n",
        "import os\n",
        "from google.colab import drive\n",
        "%matplotlib inline\n",
        "\n",
        "# Mount Google Drive\n",
        "drive.mount('/content/gdrive')\n",
        "os.chdir(\"/content/gdrive/My Drive/\")\n",
        "\n",
        "base_dir =  \"/content/gdrive/My Drive/Colab Notebooks/Udacity_DataScience/\""
      ],
      "execution_count": 1,
      "outputs": [
        {
          "output_type": "stream",
          "text": [
            "Mounted at /content/gdrive\n"
          ],
          "name": "stdout"
        }
      ]
    },
    {
      "cell_type": "markdown",
      "metadata": {
        "id": "_E0WHWP-wKRv"
      },
      "source": [
        "<a id='dta_struct'></a>\n",
        "### Part II - Data Structure Exercises\n",
        "\n",
        " "
      ]
    },
    {
      "cell_type": "code",
      "metadata": {
        "id": "GBjRsF-gjNAU",
        "colab": {
          "base_uri": "https://localhost:8080/"
        },
        "outputId": "8a472b9e-c2ff-4ef8-b0de-258d50afaa87"
      },
      "source": [
        "# E1 Your task for this quiz is to find the number of unique words in the text.\n",
        "\n",
        "verse = \"if you can keep your head when all about you are losing theirs and blaming it on you   if you can trust yourself when all men doubt you     but make allowance for their doubting too   if you can wait and not be tired by waiting      or being lied about  don’t deal in lies   or being hated  don’t give way to hating      and yet don’t look too good  nor talk too wise\"\n",
        "print(verse, '\\n')\n",
        "\n",
        "# split verse into list of words\n",
        "verse_list = verse.split()\n",
        "\n",
        "# convert list to a data structure that stores unique elements\n",
        "verse_set = set(verse_list)\n",
        "print(verse_set, '\\n')\n",
        "\n",
        "# print the number of unique words\n",
        "num_unique = len(verse_set)\n",
        "print(num_unique, '\\n')\n",
        " "
      ],
      "execution_count": null,
      "outputs": [
        {
          "output_type": "stream",
          "text": [
            "if you can keep your head when all about you are losing theirs and blaming it on you   if you can trust yourself when all men doubt you     but make allowance for their doubting too   if you can wait and not be tired by waiting      or being lied about  don’t deal in lies   or being hated  don’t give way to hating      and yet don’t look too good  nor talk too wise \n",
            "\n",
            "{'losing', 'by', 'good', 'when', 'lied', 'hated', 'your', 'are', 'yet', 'doubting', 'way', 'being', 'hating', 'head', 'give', 'wise', 'be', 'keep', 'blaming', 'talk', 'men', 'allowance', 'to', 'or', 'about', 'on', 'in', 'yourself', 'look', 'for', 'lies', 'you', 'their', 'waiting', 'don’t', 'too', 'nor', 'deal', 'if', 'can', 'tired', 'and', 'all', 'theirs', 'wait', 'not', 'trust', 'it', 'doubt', 'but', 'make'} \n",
            "\n",
            "51 \n",
            "\n"
          ],
          "name": "stdout"
        }
      ]
    },
    {
      "cell_type": "code",
      "metadata": {
        "id": "m-pDtlEfkZwa",
        "colab": {
          "base_uri": "https://localhost:8080/"
        },
        "outputId": "989944ab-9f34-4fda-d111-20296670fe10"
      },
      "source": [
        "#E2 Quiz:  Use this verse dictionary below to answer the following questions... \r\n",
        "\r\n",
        "verse_dict =  {'if': 3, 'you': 6, 'can': 3, 'keep': 1, 'your': 1, 'head': 1, 'when': 2, 'all': 2, 'about': 2, 'are': 1, 'losing': 1, 'theirs': 1, 'and': 3, 'blaming': 1, 'it': 1, 'on': 1, 'trust': 1, 'yourself': 1, 'men': 1, 'doubt': 1, 'but': 1, 'make': 1, 'allowance': 1, 'for': 1, 'their': 1, 'doubting': 1, 'too': 3, 'wait': 1, 'not': 1, 'be': 1, 'tired': 1, 'by': 1, 'waiting': 1, 'or': 2, 'being': 2, 'lied': 1, 'don\\'t': 3, 'deal': 1, 'in': 1, 'lies': 1, 'hated': 1, 'give': 1, 'way': 1, 'to': 1, 'hating': 1, 'yet': 1, 'look': 1, 'good': 1, 'nor': 1, 'talk': 1, 'wise': 1}\r\n",
        "print(verse_dict, '\\n')\r\n",
        "\r\n",
        "# find number of unique keys in the dictionary\r\n",
        "num_keys = len(verse_dict)\r\n",
        "print(num_keys)\r\n",
        "\r\n",
        "# find whether 'breathe' is a key in the dictionary\r\n",
        "contains_breathe = 'breathe' in verse_dict\r\n",
        "print(contains_breathe)\r\n",
        "\r\n",
        "# create and sort a list of the dictionary's keys\r\n",
        "sorted_keys =  sorted(verse_dict.keys())\r\n",
        "\r\n",
        "# get the first element in the sorted list of keys\r\n",
        "print(sorted_keys[0])\r\n",
        "\r\n",
        "# find the element with the highest value in the list of keys\r\n",
        "print(max(sorted_keys)) "
      ],
      "execution_count": null,
      "outputs": [
        {
          "output_type": "stream",
          "text": [
            "{'if': 3, 'you': 6, 'can': 3, 'keep': 1, 'your': 1, 'head': 1, 'when': 2, 'all': 2, 'about': 2, 'are': 1, 'losing': 1, 'theirs': 1, 'and': 3, 'blaming': 1, 'it': 1, 'on': 1, 'trust': 1, 'yourself': 1, 'men': 1, 'doubt': 1, 'but': 1, 'make': 1, 'allowance': 1, 'for': 1, 'their': 1, 'doubting': 1, 'too': 3, 'wait': 1, 'not': 1, 'be': 1, 'tired': 1, 'by': 1, 'waiting': 1, 'or': 2, 'being': 2, 'lied': 1, \"don't\": 3, 'deal': 1, 'in': 1, 'lies': 1, 'hated': 1, 'give': 1, 'way': 1, 'to': 1, 'hating': 1, 'yet': 1, 'look': 1, 'good': 1, 'nor': 1, 'talk': 1, 'wise': 1} \n",
            "\n",
            "51\n",
            "False\n",
            "about\n",
            "yourself\n"
          ],
          "name": "stdout"
        }
      ]
    },
    {
      "cell_type": "markdown",
      "metadata": {
        "id": "yAeMby4dwKSe"
      },
      "source": [
        "<a id='control_flow'></a>\n",
        "### Part III - Control Flow Exercises\n",
        "\n",
        " "
      ]
    },
    {
      "cell_type": "code",
      "metadata": {
        "id": "BuukiLc0wKS6",
        "colab": {
          "base_uri": "https://localhost:8080/"
        },
        "outputId": "f6bbabb5-e760-4419-aa67-c8fbdae88589"
      },
      "source": [
        "#E1 Write a for loop that iterates over the names list to create a usernames list. To create a username for each name, make everything lowercase and replace spaces with underscores. Running your for loop over the list:\n",
        "# names = [\"Joey Tribbiani\", \"Monica Geller\", \"Chandler Bing\", \"Phoebe Buffay\"]\n",
        "\n",
        "\n",
        "# define initial input and initialize empty new list\n",
        "names = [\"Joey Tribbiani\", \"Monica Geller\", \"Chandler Bing\", \"Phoebe Buffay\"]\n",
        "usernames = []\n",
        "\n",
        "# apply two modifications to each entry in original list\n",
        "for name in names:\n",
        "  alias = name.replace(\" \",\"_\").lower()\n",
        "  usernames.append(alias)\n",
        "\n",
        "print(usernames)"
      ],
      "execution_count": null,
      "outputs": [
        {
          "output_type": "stream",
          "text": [
            "['joey_tribbiani', 'monica_geller', 'chandler_bing', 'phoebe_buffay']\n"
          ],
          "name": "stdout"
        }
      ]
    },
    {
      "cell_type": "code",
      "metadata": {
        "id": "0J4ybxCZyPYm",
        "colab": {
          "base_uri": "https://localhost:8080/"
        },
        "outputId": "87b34ae3-a5f7-4501-e07d-3fec61abae36"
      },
      "source": [
        "#E2 Write a for loop that iterates over a list of strings, tokens, and counts how many of them are XML tags.  Keep track of the number of tags using the variable count.\r\n",
        "\r\n",
        "tokens = ['<greeting>', 'Hello World!', '</greeting>']\r\n",
        "count = 0\r\n",
        "\r\n",
        "# write your for loop here\r\n",
        "for token in tokens:\r\n",
        "    if token.startswith('<') and token.endswith('>'):\r\n",
        "        count += 1\r\n",
        "    \r\n",
        "\r\n",
        "print(count)"
      ],
      "execution_count": null,
      "outputs": [
        {
          "output_type": "stream",
          "text": [
            "2\n"
          ],
          "name": "stdout"
        }
      ]
    },
    {
      "cell_type": "code",
      "metadata": {
        "colab": {
          "base_uri": "https://localhost:8080/"
        },
        "id": "aT5nntvw2ilj",
        "outputId": "8548861e-a7a7-4c52-a26b-dd634aafba36"
      },
      "source": [
        "#E3 Create a dictionary, word_counter, that keeps track of the total count of each word in a string.\r\n",
        "\r\n",
        "book_title =  ['great', 'expectations','the', 'adventures', 'of', 'sherlock','holmes','the','great','gasby','hamlet','adventures','of','huckleberry','fin']\r\n",
        "word_counter = {}\r\n",
        "\r\n",
        "for word in book_title:\r\n",
        "    word_counter[word] = word_counter.get(word,0)+1\r\n",
        "    \r\n",
        "print(word_counter)"
      ],
      "execution_count": null,
      "outputs": [
        {
          "output_type": "stream",
          "text": [
            "{'great': 2, 'expectations': 1, 'the': 2, 'adventures': 2, 'of': 2, 'sherlock': 1, 'holmes': 1, 'gasby': 1, 'hamlet': 1, 'huckleberry': 1, 'fin': 1}\n"
          ],
          "name": "stdout"
        }
      ]
    },
    {
      "cell_type": "code",
      "metadata": {
        "colab": {
          "base_uri": "https://localhost:8080/"
        },
        "id": "EDEVqKWA2_97",
        "outputId": "618a69a8-16ed-4f6d-8786-5915b8143370"
      },
      "source": [
        "# E4 You would like to count the number of fruits in your basket. \r\n",
        "# Use the dictionary and list to count the total number\r\n",
        "# of fruits, but you do not want to count the other items in your basket.\r\n",
        "\r\n",
        "result = 0\r\n",
        "basket_items = {'apples': 4, 'oranges': 19, 'kites': 3, 'sandwiches': 8}\r\n",
        "fruits = ['apples', 'oranges', 'pears', 'peaches', 'grapes', 'bananas']\r\n",
        "\r\n",
        "#Iterate through the dictionary\r\n",
        "for fruit, count in basket_items.items():\r\n",
        "    print(fruit,count)\r\n",
        "    #if the key is in the list of fruits, add the value (number of fruits) to result\r\n",
        "    if fruit in fruits:\r\n",
        "        result += count\r\n",
        "\r\n",
        "print(\"Total number of fruits: {}\".format(result))"
      ],
      "execution_count": null,
      "outputs": [
        {
          "output_type": "stream",
          "text": [
            "apples 4\n",
            "oranges 19\n",
            "kites 3\n",
            "sandwiches 8\n",
            "Total number of fruits: 23\n"
          ],
          "name": "stdout"
        }
      ]
    },
    {
      "cell_type": "code",
      "metadata": {
        "id": "ezqGOA7M-a7S",
        "colab": {
          "base_uri": "https://localhost:8080/"
        },
        "outputId": "ad424483-7b13-46dd-ed40-7197f95631f7"
      },
      "source": [
        "#E5 Suppose you want to count from some number start_num by another number \r\n",
        "# count_by until you hit a final number end_num. Use break_num as the variable \r\n",
        "# that you'll change each time through the loop. For simplicity, assume that \r\n",
        "# count_by is always positive.\r\n",
        "\r\n",
        "start_num = 1 #provide some start number\r\n",
        "end_num = 15 #provide some end number that you stop when you hit\r\n",
        "count_by = 2 #provide some number to count by \r\n",
        " \r\n",
        "\r\n",
        "# write a while loop that uses break_num as the ongoing number to \r\n",
        "#   check against end_num\r\n",
        "if start_num > end_num:\r\n",
        "    result = \"Oops! Please try a start value that is less than the end value.\"\r\n",
        "else:\r\n",
        "    break_num = start_num\r\n",
        "    while break_num <= end_num:\r\n",
        "        #print(break_num)\r\n",
        "        result = break_num\r\n",
        "        break_num += count_by\r\n",
        "     \r\n",
        "\r\n",
        "print(result)"
      ],
      "execution_count": 2,
      "outputs": [
        {
          "output_type": "stream",
          "text": [
            "15\n"
          ],
          "name": "stdout"
        }
      ]
    },
    {
      "cell_type": "code",
      "metadata": {
        "id": "hgv69XMsFBKY",
        "colab": {
          "base_uri": "https://localhost:8080/"
        },
        "outputId": "763199e7-6964-42c4-9e7c-e22713462bdb"
      },
      "source": [
        "# E6 Write a while loop that finds the largest square number less than an integer\r\n",
        "# limit and stores it in a variable nearest_square. \r\n",
        "\r\n",
        "limit = 40\r\n",
        "\r\n",
        "# initialize counters and list to store squares\r\n",
        "x = 1\r\n",
        "nearest_square = [1]\r\n",
        "i = 0\r\n",
        "\r\n",
        "# check the square against the limit\r\n",
        "while (nearest_square[i] < limit):\r\n",
        "    i += 1\r\n",
        "    nearest_square.append(x**2)\r\n",
        "    x += 1\r\n",
        "    \r\n",
        "    \r\n",
        "print(nearest_square[i-1])\r\n",
        "\r\n",
        "\r\n",
        "# A much more elegant solution: \r\n",
        "num = 0\r\n",
        "while (num+1)**2 < limit:\r\n",
        "    num += 1\r\n",
        "nearest_square = num**2\r\n",
        "\r\n",
        "print(nearest_square)"
      ],
      "execution_count": 3,
      "outputs": [
        {
          "output_type": "stream",
          "text": [
            "36\n",
            "36\n"
          ],
          "name": "stdout"
        }
      ]
    },
    {
      "cell_type": "code",
      "metadata": {
        "colab": {
          "base_uri": "https://localhost:8080/"
        },
        "id": "8MSyYYptGcwN",
        "outputId": "2007778c-7353-413a-9b5f-2b4caaef1a0c"
      },
      "source": [
        "# E7 create a string, news_ticker, that is exactly 140 characters long. You should \r\n",
        "# create the news ticker by adding headlines from the headlines list, inserting a space \r\n",
        "# in between each headline. If necessary, truncate the last headline in the middle \r\n",
        "# so that news_ticker is exactly 140 characters long.\r\n",
        "\r\n",
        "headlines = [\"Local Bear Eaten by Man\",\r\n",
        "             \"Legislature Announces New Laws\",\r\n",
        "             \"Peasant Discovers Violence Inherent in System\",\r\n",
        "             \"Cat Rescues Fireman Stuck in Tree\",\r\n",
        "             \"Brave Knight Runs Away\",\r\n",
        "             \"Papperbok Review: Totally Triffic\"]\r\n",
        "\r\n",
        "news_ticker = \"\"\r\n",
        "i = 0\r\n",
        "# write your loop here\r\n",
        "\r\n",
        "while (len(news_ticker)<140):\r\n",
        "    news_ticker = news_ticker + \"\"\r\n",
        "    amnt_to_add = 140-len(news_ticker)\r\n",
        "    news_ticker = news_ticker + headlines[i][:amnt_to_add]\r\n",
        "    i += 1\r\n",
        "\r\n",
        "print(len(news_ticker))    \r\n",
        "print(news_ticker)"
      ],
      "execution_count": 4,
      "outputs": [
        {
          "output_type": "stream",
          "text": [
            "140\n",
            "Local Bear Eaten by ManLegislature Announces New LawsPeasant Discovers Violence Inherent in SystemCat Rescues Fireman Stuck in TreeBrave Kni\n"
          ],
          "name": "stdout"
        }
      ]
    }
  ]
}