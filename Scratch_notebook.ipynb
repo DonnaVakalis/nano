{
  "nbformat": 4,
  "nbformat_minor": 0,
  "metadata": {
    "kernelspec": {
      "display_name": "Python 3",
      "language": "python",
      "name": "python3"
    },
    "language_info": {
      "codemirror_mode": {
        "name": "ipython",
        "version": 3
      },
      "file_extension": ".py",
      "mimetype": "text/x-python",
      "name": "python",
      "nbconvert_exporter": "python",
      "pygments_lexer": "ipython3",
      "version": "3.6.3"
    },
    "colab": {
      "name": "Scratch_notebook.ipynb",
      "provenance": [],
      "include_colab_link": true
    }
  },
  "cells": [
    {
      "cell_type": "markdown",
      "metadata": {
        "id": "view-in-github",
        "colab_type": "text"
      },
      "source": [
        "<a href=\"https://colab.research.google.com/github/DonnaVakalis/nano/blob/master/Scratch_notebook.ipynb\" target=\"_parent\"><img src=\"https://colab.research.google.com/assets/colab-badge.svg\" alt=\"Open In Colab\"/></a>"
      ]
    },
    {
      "cell_type": "markdown",
      "metadata": {
        "id": "aIq2MoYCwKQZ"
      },
      "source": [
        "## Exercises from Python for Data Science\n",
        "\n",
        " \n",
        "\n",
        "## Table of Contents\n",
        "- [Part I - Environment Setup](#setup)\n",
        "- [Part II - Data Structures](#dta_struct)\n",
        "- [Part III - Control Flow](#control_flow)\n",
        "- [Part IV - Functions](#functions)\n",
        "- [Part V - Scripting](#scripting)\n",
        "- [Part VI - Numpy and Pandas](#np_pd)\n",
        "- [Part VII - Generators](#generators)\n",
        "\n",
        " \n",
        "<a id='setup'></a>\n",
        "#### Part I - Environment Setup"
      ]
    },
    {
      "cell_type": "code",
      "metadata": {
        "id": "8ejm2eFHwKQc",
        "colab": {
          "base_uri": "https://localhost:8080/"
        },
        "outputId": "028e033c-b1a6-42e3-c94d-979122c1f2e6"
      },
      "source": [
        "import pandas as pd\n",
        "import numpy as np\n",
        "import os\n",
        "from google.colab import drive\n",
        "%matplotlib inline\n",
        "\n",
        "# Mount Google Drive\n",
        "drive.mount('/content/gdrive')\n",
        "os.chdir(\"/content/gdrive/My Drive/\")\n",
        "\n",
        "base_dir =  \"/content/gdrive/My Drive/Colab Notebooks/Udacity_DataScience/\""
      ],
      "execution_count": null,
      "outputs": [
        {
          "output_type": "stream",
          "text": [
            "Mounted at /content/gdrive\n"
          ],
          "name": "stdout"
        }
      ]
    },
    {
      "cell_type": "markdown",
      "metadata": {
        "id": "_E0WHWP-wKRv"
      },
      "source": [
        "<a id='dta_struct'></a>\n",
        "### Part II - Data Structure Exercises\n",
        "\n",
        " "
      ]
    },
    {
      "cell_type": "code",
      "metadata": {
        "id": "GBjRsF-gjNAU",
        "colab": {
          "base_uri": "https://localhost:8080/"
        },
        "outputId": "7830454f-a546-4807-8905-3467dfe342ac"
      },
      "source": [
        "# E1 Your task for this quiz is to find the number of unique words in the text.\n",
        "\n",
        "verse = \"if you can keep your head when all about you are losing theirs and blaming it on you   if you can trust yourself when all men doubt you     but make allowance for their doubting too   if you can wait and not be tired by waiting      or being lied about  don’t deal in lies   or being hated  don’t give way to hating      and yet don’t look too good  nor talk too wise\"\n",
        "print(verse, '\\n')\n",
        "\n",
        "# split verse into list of words\n",
        "verse_list = verse.split()\n",
        "\n",
        "# convert list to a data structure that stores unique elements\n",
        "verse_set = set(verse_list)\n",
        "print(verse_set, '\\n')\n",
        "\n",
        "# print the number of unique words\n",
        "num_unique = len(verse_set)\n",
        "print(num_unique, '\\n')\n",
        " "
      ],
      "execution_count": null,
      "outputs": [
        {
          "output_type": "stream",
          "text": [
            "if you can keep your head when all about you are losing theirs and blaming it on you   if you can trust yourself when all men doubt you     but make allowance for their doubting too   if you can wait and not be tired by waiting      or being lied about  don’t deal in lies   or being hated  don’t give way to hating      and yet don’t look too good  nor talk too wise \n",
            "\n",
            "{'yourself', 'way', 'you', 'when', 'your', 'doubt', 'theirs', 'allowance', 'for', 'tired', 'keep', 'doubting', 'too', 'trust', 'not', 'by', 'men', 'make', 'but', 'their', 'yet', 'to', 'good', 'give', 'lies', 'lied', 'and', 'it', 'losing', 'deal', 'don’t', 'wait', 'or', 'in', 'on', 'hating', 'if', 'talk', 'being', 'waiting', 'are', 'be', 'nor', 'blaming', 'all', 'wise', 'look', 'head', 'can', 'hated', 'about'} \n",
            "\n",
            "51 \n",
            "\n"
          ],
          "name": "stdout"
        }
      ]
    },
    {
      "cell_type": "code",
      "metadata": {
        "id": "m-pDtlEfkZwa",
        "colab": {
          "base_uri": "https://localhost:8080/"
        },
        "outputId": "d1bcee06-8f04-417b-eeef-4e7995c684ae"
      },
      "source": [
        "#E2 Quiz:  Use this verse dictionary below to answer the following questions... \r\n",
        "\r\n",
        "verse_dict =  {'if': 3, 'you': 6, 'can': 3, 'keep': 1, 'your': 1, 'head': 1, 'when': 2, 'all': 2, 'about': 2, 'are': 1, 'losing': 1, 'theirs': 1, 'and': 3, 'blaming': 1, 'it': 1, 'on': 1, 'trust': 1, 'yourself': 1, 'men': 1, 'doubt': 1, 'but': 1, 'make': 1, 'allowance': 1, 'for': 1, 'their': 1, 'doubting': 1, 'too': 3, 'wait': 1, 'not': 1, 'be': 1, 'tired': 1, 'by': 1, 'waiting': 1, 'or': 2, 'being': 2, 'lied': 1, 'don\\'t': 3, 'deal': 1, 'in': 1, 'lies': 1, 'hated': 1, 'give': 1, 'way': 1, 'to': 1, 'hating': 1, 'yet': 1, 'look': 1, 'good': 1, 'nor': 1, 'talk': 1, 'wise': 1}\r\n",
        "print(verse_dict, '\\n')\r\n",
        "\r\n",
        "# find number of unique keys in the dictionary\r\n",
        "num_keys = len(verse_dict)\r\n",
        "print(num_keys)\r\n",
        "\r\n",
        "# find whether 'breathe' is a key in the dictionary\r\n",
        "contains_breathe = 'breathe' in verse_dict\r\n",
        "print(contains_breathe)\r\n",
        "\r\n",
        "# create and sort a list of the dictionary's keys\r\n",
        "sorted_keys =  sorted(verse_dict.keys())\r\n",
        "\r\n",
        "# get the first element in the sorted list of keys\r\n",
        "print(sorted_keys[0])\r\n",
        "\r\n",
        "# find the element with the highest value in the list of keys\r\n",
        "print(max(sorted_keys)) "
      ],
      "execution_count": null,
      "outputs": [
        {
          "output_type": "stream",
          "text": [
            "{'if': 3, 'you': 6, 'can': 3, 'keep': 1, 'your': 1, 'head': 1, 'when': 2, 'all': 2, 'about': 2, 'are': 1, 'losing': 1, 'theirs': 1, 'and': 3, 'blaming': 1, 'it': 1, 'on': 1, 'trust': 1, 'yourself': 1, 'men': 1, 'doubt': 1, 'but': 1, 'make': 1, 'allowance': 1, 'for': 1, 'their': 1, 'doubting': 1, 'too': 3, 'wait': 1, 'not': 1, 'be': 1, 'tired': 1, 'by': 1, 'waiting': 1, 'or': 2, 'being': 2, 'lied': 1, \"don't\": 3, 'deal': 1, 'in': 1, 'lies': 1, 'hated': 1, 'give': 1, 'way': 1, 'to': 1, 'hating': 1, 'yet': 1, 'look': 1, 'good': 1, 'nor': 1, 'talk': 1, 'wise': 1} \n",
            "\n",
            "51\n",
            "False\n",
            "about\n",
            "yourself\n"
          ],
          "name": "stdout"
        }
      ]
    },
    {
      "cell_type": "markdown",
      "metadata": {
        "id": "yAeMby4dwKSe"
      },
      "source": [
        "<a id='control_flow'></a>\n",
        "### Part III - Control Flow Exercises\n",
        "\n",
        " "
      ]
    },
    {
      "cell_type": "code",
      "metadata": {
        "id": "BuukiLc0wKS6",
        "colab": {
          "base_uri": "https://localhost:8080/"
        },
        "outputId": "4b34c193-66b7-430d-9550-b37893eaa0ef"
      },
      "source": [
        "#E1 Write a for loop that iterates over the names list to create a usernames list. To create a username for each name, make everything lowercase and replace spaces with underscores. Running your for loop over the list:\n",
        "# names = [\"Joey Tribbiani\", \"Monica Geller\", \"Chandler Bing\", \"Phoebe Buffay\"]\n",
        "\n",
        "\n",
        "# define initial input and initialize empty new list\n",
        "names = [\"Joey Tribbiani\", \"Monica Geller\", \"Chandler Bing\", \"Phoebe Buffay\"]\n",
        "usernames = []\n",
        "\n",
        "# apply two modifications to each entry in original list\n",
        "for name in names:\n",
        "  alias = name.replace(\" \",\"_\").lower()\n",
        "  usernames.append(alias)\n",
        "\n",
        "print(usernames)"
      ],
      "execution_count": null,
      "outputs": [
        {
          "output_type": "stream",
          "text": [
            "['joey_tribbiani', 'monica_geller', 'chandler_bing', 'phoebe_buffay']\n"
          ],
          "name": "stdout"
        }
      ]
    },
    {
      "cell_type": "code",
      "metadata": {
        "id": "0J4ybxCZyPYm",
        "colab": {
          "base_uri": "https://localhost:8080/"
        },
        "outputId": "4cb2eceb-0e88-4efe-f7a7-c17e78fb6068"
      },
      "source": [
        "#E2 Write a for loop that iterates over a list of strings, tokens, and counts how many of them are XML tags.  Keep track of the number of tags using the variable count.\r\n",
        "\r\n",
        "tokens = ['<greeting>', 'Hello World!', '</greeting>']\r\n",
        "count = 0\r\n",
        "\r\n",
        "# write your for loop here\r\n",
        "for token in tokens:\r\n",
        "    if token.startswith('<') and token.endswith('>'):\r\n",
        "        count += 1\r\n",
        "    \r\n",
        "\r\n",
        "print(count)"
      ],
      "execution_count": null,
      "outputs": [
        {
          "output_type": "stream",
          "text": [
            "2\n"
          ],
          "name": "stdout"
        }
      ]
    },
    {
      "cell_type": "code",
      "metadata": {
        "colab": {
          "base_uri": "https://localhost:8080/"
        },
        "id": "aT5nntvw2ilj",
        "outputId": "ac9851e2-e602-4679-fe50-2652bf8fffc0"
      },
      "source": [
        "#E3 Create a dictionary, word_counter, that keeps track of the total count of each word in a string.\r\n",
        "\r\n",
        "book_title =  ['great', 'expectations','the', 'adventures', 'of', 'sherlock','holmes','the','great','gasby','hamlet','adventures','of','huckleberry','fin']\r\n",
        "word_counter = {}\r\n",
        "\r\n",
        "for word in book_title:\r\n",
        "    word_counter[word] = word_counter.get(word,0)+1\r\n",
        "    \r\n",
        "print(word_counter)"
      ],
      "execution_count": null,
      "outputs": [
        {
          "output_type": "stream",
          "text": [
            "{'great': 2, 'expectations': 1, 'the': 2, 'adventures': 2, 'of': 2, 'sherlock': 1, 'holmes': 1, 'gasby': 1, 'hamlet': 1, 'huckleberry': 1, 'fin': 1}\n"
          ],
          "name": "stdout"
        }
      ]
    },
    {
      "cell_type": "code",
      "metadata": {
        "colab": {
          "base_uri": "https://localhost:8080/"
        },
        "id": "EDEVqKWA2_97",
        "outputId": "6da53ece-d4de-43bb-e4db-d54a7d512a47"
      },
      "source": [
        "# E4 You would like to count the number of fruits in your basket. \r\n",
        "# Use the dictionary and list to count the total number\r\n",
        "# of fruits, but you do not want to count the other items in your basket.\r\n",
        "\r\n",
        "result = 0\r\n",
        "basket_items = {'apples': 4, 'oranges': 19, 'kites': 3, 'sandwiches': 8}\r\n",
        "fruits = ['apples', 'oranges', 'pears', 'peaches', 'grapes', 'bananas']\r\n",
        "\r\n",
        "#Iterate through the dictionary\r\n",
        "for fruit, count in basket_items.items():\r\n",
        "    print(fruit,count)\r\n",
        "    #if the key is in the list of fruits, add the value (number of fruits) to result\r\n",
        "    if fruit in fruits:\r\n",
        "        result += count\r\n",
        "\r\n",
        "print(\"Total number of fruits: {}\".format(result))"
      ],
      "execution_count": null,
      "outputs": [
        {
          "output_type": "stream",
          "text": [
            "apples 4\n",
            "oranges 19\n",
            "kites 3\n",
            "sandwiches 8\n",
            "Total number of fruits: 23\n"
          ],
          "name": "stdout"
        }
      ]
    },
    {
      "cell_type": "code",
      "metadata": {
        "id": "ezqGOA7M-a7S",
        "colab": {
          "base_uri": "https://localhost:8080/"
        },
        "outputId": "b3a2b633-108a-4ca5-d12e-b325cd494233"
      },
      "source": [
        "#E5 Suppose you want to count from some number start_num by another number \r\n",
        "# count_by until you hit a final number end_num. Use break_num as the variable \r\n",
        "# that you'll change each time through the loop. For simplicity, assume that \r\n",
        "# count_by is always positive.\r\n",
        "\r\n",
        "start_num = 1 #provide some start number\r\n",
        "end_num = 15 #provide some end number that you stop when you hit\r\n",
        "count_by = 2 #provide some number to count by \r\n",
        " \r\n",
        "\r\n",
        "# write a while loop that uses break_num as the ongoing number to \r\n",
        "#   check against end_num\r\n",
        "if start_num > end_num:\r\n",
        "    result = \"Oops! Please try a start value that is less than the end value.\"\r\n",
        "else:\r\n",
        "    break_num = start_num\r\n",
        "    while break_num <= end_num:\r\n",
        "        #print(break_num)\r\n",
        "        result = break_num\r\n",
        "        break_num += count_by\r\n",
        "     \r\n",
        "\r\n",
        "print(result)"
      ],
      "execution_count": null,
      "outputs": [
        {
          "output_type": "stream",
          "text": [
            "15\n"
          ],
          "name": "stdout"
        }
      ]
    },
    {
      "cell_type": "code",
      "metadata": {
        "id": "hgv69XMsFBKY",
        "colab": {
          "base_uri": "https://localhost:8080/"
        },
        "outputId": "7a518970-3f45-4818-f63c-1c2bda0615eb"
      },
      "source": [
        "# E6 Write a while loop that finds the largest square number less than an integer\r\n",
        "# limit and stores it in a variable nearest_square. \r\n",
        "\r\n",
        "limit = 40\r\n",
        "\r\n",
        "# initialize counters and list to store squares\r\n",
        "x = 1\r\n",
        "nearest_square = [1]\r\n",
        "i = 0\r\n",
        "\r\n",
        "# check the square against the limit\r\n",
        "while (nearest_square[i] < limit):\r\n",
        "    i += 1\r\n",
        "    nearest_square.append(x**2)\r\n",
        "    x += 1\r\n",
        "    \r\n",
        "    \r\n",
        "print(nearest_square[i-1])\r\n",
        "\r\n",
        "\r\n",
        "# A much more elegant solution: \r\n",
        "num = 0\r\n",
        "while (num+1)**2 < limit:\r\n",
        "    num += 1\r\n",
        "nearest_square = num**2\r\n",
        "\r\n",
        "print(nearest_square)"
      ],
      "execution_count": null,
      "outputs": [
        {
          "output_type": "stream",
          "text": [
            "36\n",
            "36\n"
          ],
          "name": "stdout"
        }
      ]
    },
    {
      "cell_type": "code",
      "metadata": {
        "colab": {
          "base_uri": "https://localhost:8080/"
        },
        "id": "8MSyYYptGcwN",
        "outputId": "938bd858-44d5-40d5-d3d4-6ae5d4292dfb"
      },
      "source": [
        "# E7 create a string, news_ticker, that is exactly 140 characters long. You should \r\n",
        "# create the news ticker by adding headlines from the headlines list, inserting a space \r\n",
        "# in between each headline. If necessary, truncate the last headline in the middle \r\n",
        "# so that news_ticker is exactly 140 characters long.\r\n",
        "\r\n",
        "headlines = [\"Local Bear Eaten by Man\",\r\n",
        "             \"Legislature Announces New Laws\",\r\n",
        "             \"Peasant Discovers Violence Inherent in System\",\r\n",
        "             \"Cat Rescues Fireman Stuck in Tree\",\r\n",
        "             \"Brave Knight Runs Away\",\r\n",
        "             \"Papperbok Review: Totally Triffic\"]\r\n",
        "\r\n",
        "news_ticker = \"\"\r\n",
        "i = 0\r\n",
        "# write your loop here\r\n",
        "\r\n",
        "while (len(news_ticker)<140):\r\n",
        "    amnt_to_add = 140-len(news_ticker)\r\n",
        "    news_ticker = news_ticker + headlines[i][:amnt_to_add] + \" \"\r\n",
        "    i += 1\r\n",
        "  \r\n",
        "print(news_ticker[:140])\r\n",
        "\r\n",
        "# Alternatively\r\n",
        "\r\n",
        "news_ticker = \"\"\r\n",
        "for headline in headlines:\r\n",
        "    news_ticker += headline + \" \"\r\n",
        "    if len(news_ticker) >= 140:\r\n",
        "        news_ticker = news_ticker[:140]\r\n",
        "        break\r\n",
        "\r\n",
        "print(news_ticker)"
      ],
      "execution_count": null,
      "outputs": [
        {
          "output_type": "stream",
          "text": [
            "Local Bear Eaten by Man Legislature Announces New Laws Peasant Discovers Violence Inherent in System Cat Rescues Fireman Stuck in Tree Brave\n",
            "Local Bear Eaten by Man Legislature Announces New Laws Peasant Discovers Violence Inherent in System Cat Rescues Fireman Stuck in Tree Brave\n"
          ],
          "name": "stdout"
        }
      ]
    },
    {
      "cell_type": "code",
      "metadata": {
        "colab": {
          "base_uri": "https://localhost:8080/"
        },
        "id": "lwzVbYRTbhn8",
        "outputId": "00cb2256-991f-4ced-d008-cac85ef94c95"
      },
      "source": [
        "# E8 write code to check if the numbers provided in the list check_prime are prime numbers.\r\n",
        "\r\n",
        "check_prime = [26, 39, 51, 53, 57, 79, 85]\r\n",
        "\r\n",
        "for element in check_prime:\r\n",
        "    possible_factors_list = list(range(2,element-1))\r\n",
        "    list_of_factors = []\r\n",
        "\r\n",
        "    for factor in possible_factors_list:\r\n",
        "        \r\n",
        "        if (element%factor) == 0:\r\n",
        "            list_of_factors.append(factor)\r\n",
        "    if len(list_of_factors) == 0:\r\n",
        "        print(\"{} IS a prime number\".format(element))\r\n",
        "    else:\r\n",
        "        print(\"{} IS NOT a prime number, with the following factors: {} \".format(element,list_of_factors))\r\n"
      ],
      "execution_count": null,
      "outputs": [
        {
          "output_type": "stream",
          "text": [
            "26 IS NOT a prime number, with the following factors: [2, 13] \n",
            "39 IS NOT a prime number, with the following factors: [3, 13] \n",
            "51 IS NOT a prime number, with the following factors: [3, 17] \n",
            "53 IS a prime number\n",
            "57 IS NOT a prime number, with the following factors: [3, 19] \n",
            "79 IS a prime number\n",
            "85 IS NOT a prime number, with the following factors: [5, 17] \n"
          ],
          "name": "stdout"
        }
      ]
    },
    {
      "cell_type": "code",
      "metadata": {
        "id": "bsp7AP_fchip",
        "colab": {
          "base_uri": "https://localhost:8080/"
        },
        "outputId": "b205862d-310d-411c-eb43-64dcf4dc1307"
      },
      "source": [
        "# E9 Use zip to write a for loop that creates a string specifying the label and \r\n",
        "# coordinates of each point and appends it to the list points. Each string \r\n",
        "# should be formatted as label: x, y, z. \r\n",
        "\r\n",
        "x_coord = [23, 53, 2, -12, 95, 103, 14, -5]\r\n",
        "y_coord = [677, 233, 405, 433, 905, 376, 432, 445]\r\n",
        "z_coord = [4, 16, -6, -42, 3, -6, 23, -1]\r\n",
        "labels = [\"F\", \"J\", \"A\", \"Q\", \"Y\", \"B\", \"W\", \"X\"]\r\n",
        "\r\n",
        "points = []\r\n",
        "# write your for loop here\r\n",
        "points = list(zip(labels,  x_coord, y_coord, z_coord))\r\n",
        "\r\n",
        "for point in points:\r\n",
        "    print(\"{} : {}, {}. {}\".format(point[0],point[1],point[2],point[3]))"
      ],
      "execution_count": null,
      "outputs": [
        {
          "output_type": "stream",
          "text": [
            "F : 23, 677. 4\n",
            "J : 53, 233. 16\n",
            "A : 2, 405. -6\n",
            "Q : -12, 433. -42\n",
            "Y : 95, 905. 3\n",
            "B : 103, 376. -6\n",
            "W : 14, 432. 23\n",
            "X : -5, 445. -1\n"
          ],
          "name": "stdout"
        }
      ]
    },
    {
      "cell_type": "code",
      "metadata": {
        "colab": {
          "base_uri": "https://localhost:8080/"
        },
        "id": "kV9L0_mMhody",
        "outputId": "368eefc0-8dee-4eb1-bc42-05ba3deaffea"
      },
      "source": [
        "#E10 Use zip to create a dictionary cast that uses names as keys and heights as values.\r\n",
        "\r\n",
        "cast_names = [\"Barney\", \"Robin\", \"Ted\", \"Lily\", \"Marshall\"]\r\n",
        "cast_heights = [72, 68, 72, 66, 76]\r\n",
        "\r\n",
        "cast =dict(zip(cast_names,cast_heights))\r\n",
        "print(cast)\r\n"
      ],
      "execution_count": null,
      "outputs": [
        {
          "output_type": "stream",
          "text": [
            "{'Barney': 72, 'Robin': 68, 'Ted': 72, 'Lily': 66, 'Marshall': 76}\n"
          ],
          "name": "stdout"
        }
      ]
    },
    {
      "cell_type": "code",
      "metadata": {
        "id": "AhXQQnXzQ8xD",
        "colab": {
          "base_uri": "https://localhost:8080/"
        },
        "outputId": "4d09eda4-2d8f-4fd7-d971-d90f1b50b6f4"
      },
      "source": [
        "#E 11 Use zip to write a for loop that creates a string specifying the label and \r\n",
        "# coordinates of each point and appends it to the list points. Each string should \r\n",
        "# be formatted as label: x, y, z. For example, the string for the first coordinate should be F: 23, 677, 4.\r\n",
        "\r\n",
        "x_coord = [23, 53, 2, -12, 95, 103, 14, -5]\r\n",
        "y_coord = [677, 233, 405, 433, 905, 376, 432, 445]\r\n",
        "z_coord = [4, 16, -6, -42, 3, -6, 23, -1]\r\n",
        "labels = [\"F\", \"J\", \"A\", \"Q\", \"Y\", \"B\", \"W\", \"X\"]\r\n",
        "\r\n",
        "points = []\r\n",
        "# write your for loop here\r\n",
        "points = list(zip(labels,  x_coord, y_coord, z_coord))\r\n",
        "\r\n",
        "for point in points:\r\n",
        "    one_line = point[0] + \": \"+ str(point [1]) + \", \" + str(point[2]) + \", \" + str(point[3])\r\n",
        "    print(one_line)\r\n",
        "    "
      ],
      "execution_count": null,
      "outputs": [
        {
          "output_type": "stream",
          "text": [
            "F: 23, 677, 4\n",
            "J: 53, 233, 16\n",
            "A: 2, 405, -6\n",
            "Q: -12, 433, -42\n",
            "Y: 95, 905, 3\n",
            "B: 103, 376, -6\n",
            "W: 14, 432, 23\n",
            "X: -5, 445, -1\n"
          ],
          "name": "stdout"
        }
      ]
    },
    {
      "cell_type": "code",
      "metadata": {
        "id": "xAQN7IASS0on",
        "colab": {
          "base_uri": "https://localhost:8080/"
        },
        "outputId": "c73f8d21-c799-4b77-d631-080d72f84003"
      },
      "source": [
        "#E 12 Use zip to create a dictionary cast that uses names as keys and heights as values.\r\n",
        "# Then Unzip the cast tuple into two names and heights tuples.\r\n",
        "\r\n",
        "cast_names = [\"Barney\", \"Robin\", \"Ted\", \"Lily\", \"Marshall\"]\r\n",
        "cast_heights = [72, 68, 72, 66, 76]\r\n",
        "\r\n",
        "cast =dict(zip(cast_names,cast_heights))\r\n",
        "\r\n",
        "# define names and heights here\r\n",
        "names = []\r\n",
        "heights = []\r\n",
        "\r\n",
        "for element in cast:\r\n",
        "    names.append(element[0])\r\n",
        "    heights.append(element[1])\r\n",
        "\r\n",
        "names = tuple(names)\r\n",
        "heights = tuple(heights)\r\n",
        "\r\n",
        "print(names)\r\n",
        "print(heights)"
      ],
      "execution_count": null,
      "outputs": [
        {
          "output_type": "stream",
          "text": [
            "('B', 'R', 'T', 'L', 'M')\n",
            "('a', 'o', 'e', 'i', 'a')\n"
          ],
          "name": "stdout"
        }
      ]
    },
    {
      "cell_type": "code",
      "metadata": {
        "colab": {
          "base_uri": "https://localhost:8080/"
        },
        "id": "5UhqUHObWvWQ",
        "outputId": "ad04c54b-38ac-472b-f477-5851b60c7320"
      },
      "source": [
        "# E13 Use enumerate to modify the cast list so that each element contains the name \r\n",
        "# followed by the character's corresponding height. For example, the first element \r\n",
        "# of cast should change from \"Barney Stinson\" to \"Barney Stinson 72\".\r\n",
        "\r\n",
        "cast = [\"Barney Stinson\", \"Robin Scherbatsky\", \"Ted Mosby\", \"Lily Aldrin\", \"Marshall Eriksen\"]\r\n",
        "heights = [72, 68, 72, 66, 76]\r\n",
        "\r\n",
        "# write your for loop here\r\n",
        "\r\n",
        "for position, name in enumerate(cast):\r\n",
        "    cast[position] = name + \" \" + str(heights[position])\r\n",
        "\r\n",
        "print(cast)"
      ],
      "execution_count": null,
      "outputs": [
        {
          "output_type": "stream",
          "text": [
            "['Barney Stinson 72', 'Robin Scherbatsky 68', 'Ted Mosby 72', 'Lily Aldrin 66', 'Marshall Eriksen 76']\n"
          ],
          "name": "stdout"
        }
      ]
    },
    {
      "cell_type": "code",
      "metadata": {
        "id": "hJTVMJRQblPU",
        "colab": {
          "base_uri": "https://localhost:8080/"
        },
        "outputId": "53d38058-5932-4514-bb69-67ddf3c43af6"
      },
      "source": [
        "# E14 Use a list comprehension to create a new list first_names containing \r\n",
        "# just the first names in names in lowercase.\r\n",
        "\r\n",
        "names = [\"Rick Sanchez\", \"Morty Smith\", \"Summer Smith\", \"Jerry Smith\", \"Beth Smith\"] \r\n",
        "\r\n",
        "first_names = [name.split()[0].lower() for name in names]\r\n",
        "print(first_names)"
      ],
      "execution_count": null,
      "outputs": [
        {
          "output_type": "stream",
          "text": [
            "['rick', 'morty', 'summer', 'jerry', 'beth']\n"
          ],
          "name": "stdout"
        }
      ]
    },
    {
      "cell_type": "code",
      "metadata": {
        "colab": {
          "base_uri": "https://localhost:8080/"
        },
        "id": "dt9xcPCgcCKQ",
        "outputId": "9b561dd4-89d9-4b5c-ac05-f329703ab049"
      },
      "source": [
        "# E15 Use a list comprehension to create a list of names passed that only include those that scored at least 65.\r\n",
        "\r\n",
        "scores = {\r\n",
        "             \"Rick Sanchez\": 70,\r\n",
        "             \"Morty Smith\": 35,\r\n",
        "             \"Summer Smith\": 82,\r\n",
        "             \"Jerry Smith\": 23,\r\n",
        "             \"Beth Smith\": 98\r\n",
        "          }\r\n",
        "\r\n",
        "# passed = [key for key in scores.keys() if scores[key] >= 65]\r\n",
        "passed = [name for name, score in scores.items() if score >= 65]\r\n",
        "print(passed)"
      ],
      "execution_count": null,
      "outputs": [
        {
          "output_type": "stream",
          "text": [
            "['Rick Sanchez', 'Summer Smith', 'Beth Smith']\n"
          ],
          "name": "stdout"
        }
      ]
    },
    {
      "cell_type": "code",
      "metadata": {
        "id": "JK4TV3PkwKR3"
      },
      "source": [
        "### E 16 Please provide a list with the name(s) of the director(s) with \r\n",
        "### the most Oscar wins. The list can hold the names of multiple directors,\r\n",
        "### since there can be more than 1 director tied with the most Oscar wins.\r\n",
        "\r\n",
        "winners = {1931: ['Norman Taurog'], 1932: ['Frank Borzage'], 1933: ['Frank Lloyd'], 1934: ['Frank Capra'], 1935: ['John Ford'], 1936: ['Frank Capra'], 1937: ['Leo McCarey'], 1938: ['Frank Capra'], 1939: ['Victor Fleming'], 1940: ['John Ford'], 1941: ['John Ford'], 1942: ['William Wyler'], 1943: ['Michael Curtiz'], 1944: ['Leo McCarey'], 1945: ['Billy Wilder'], 1946: ['William Wyler'], 1947: ['Elia Kazan'], 1948: ['John Huston'], 1949: ['Joseph L. Mankiewicz'], 1950: ['Joseph L. Mankiewicz'], 1951: ['George Stevens'], 1952: ['John Ford'], 1953: ['Fred Zinnemann'], 1954: ['Elia Kazan'], 1955: ['Delbert Mann'], 1956: ['George Stevens'], 1957: ['David Lean'], 1958: ['Vincente Minnelli'], 1959: ['William Wyler'], 1960: ['Billy Wilder'], 1961: ['Jerome Robbins', 'Robert Wise'], 1962: ['David Lean'], 1963: ['Tony Richardson'], 1964: ['George Cukor'], 1965: ['Robert Wise'], 1966: ['Fred Zinnemann'], 1967: ['Mike Nichols'], 1968: ['Carol Reed'], 1969: ['John Schlesinger'], 1970: ['Franklin J. Schaffner'], 1971: ['William Friedkin'], 1972: ['Bob Fosse'], 1973: ['George Roy Hill'], 1974: ['Francis Ford Coppola'], 1975: ['Milos Forman'], 1976: ['John G. Avildsen'], 1977: ['Woody Allen'], 1978: ['Michael Cimino'], 1979: ['Robert Benton'], 1980: ['Robert Redford'], 1981: ['Warren Beatty'], 1982: ['Richard Attenborough'], 1983: ['James L. Brooks'], 1984: ['Milos Forman'], 1985: ['Sydney Pollack'], 1986: ['Oliver Stone'], 1987: ['Bernardo Bertolucci'], 1988: ['Barry Levinson'], 1989: ['Oliver Stone'], 1990: ['Kevin Costner'], 1991: ['Jonathan Demme'], 1992: ['Clint Eastwood'], 1993: ['Steven Spielberg'], 1994: ['Robert Zemeckis'], 1995: ['Mel Gibson'], 1996: ['Anthony Minghella'], 1997: ['James Cameron'], 1998: ['Steven Spielberg'], 1999: ['Sam Mendes'], 2000: ['Steven Soderbergh'], 2001: ['Ron Howard'], 2002: ['Roman Polanski'], 2003: ['Peter Jackson'], 2004: ['Clint Eastwood'], 2005: ['Ang Lee'], 2006: ['Martin Scorsese'], 2007: ['Ethan Coen', 'Joel Coen'], 2008: ['Danny Boyle'], 2009: ['Kathryn Bigelow'], 2010: ['Tom Hooper']}\r\n",
        " \r\n",
        "win_count_dict = {}\r\n",
        "\r\n",
        "for winner_list in winners.values():\r\n",
        "    for winner in winner_list:\r\n",
        "        win_count_dict[winner] = win_count_dict.get(winner, 0) + 1 \r\n",
        "\r\n",
        "# find max value of dictionary\r\n",
        "max_wins = max(win_count_dict.values()) #4\r\n",
        "\r\n",
        "# report all keys within dictionary that equal max\r\n",
        "most_win_director = [name for name, wins in win_count_dict.items() if wins == max_wins]\r\n",
        " \r\n",
        "print(\"most_win_director = {}\".format(most_win_director))"
      ],
      "execution_count": null,
      "outputs": []
    },
    {
      "cell_type": "markdown",
      "metadata": {
        "id": "ljjm8ICtIFET"
      },
      "source": [
        "<a id='functions'></a>\n",
        "### Part IV - Functions\n",
        "\n",
        " "
      ]
    },
    {
      "cell_type": "markdown",
      "metadata": {
        "id": "L1Dv7rIhM1uJ"
      },
      "source": [
        "\r\n",
        "#### Notes on Scope: \r\n"
      ]
    },
    {
      "cell_type": "code",
      "metadata": {
        "id": "O4sYfmbEM_Qw"
      },
      "source": [
        "\r\n",
        "egg_count = 0\r\n",
        "\r\n",
        "def buy_eggs():\r\n",
        "    # NOTE \r\n",
        "    # egg_count = egg_count + 12  #****This is NOT ok**** thinks egg_count is now local but referenced before assignment\r\n",
        "    test = egg_count + 12   # This is FINE. refs a global var\r\n",
        "\r\n",
        "buy_eggs()"
      ],
      "execution_count": null,
      "outputs": []
    },
    {
      "cell_type": "markdown",
      "metadata": {
        "id": "452PYtE4POEF"
      },
      "source": [
        "#### Notes on Docstrings:\r\n"
      ]
    },
    {
      "cell_type": "code",
      "metadata": {
        "id": "6LQvPldpPRRS"
      },
      "source": [
        "# example of formatting docstring:\r\n",
        "def some_function(input_arg1,input_arg2):\r\n",
        "    \"\"\"\r\n",
        "    This is an example of Google style.\r\n",
        "\r\n",
        "    Args:\r\n",
        "        param1: This is the first param.\r\n",
        "        param2: This is a second param.\r\n",
        "\r\n",
        "    Returns:\r\n",
        "        This is a description of what is returned.\r\n",
        "    \"\"\""
      ],
      "execution_count": null,
      "outputs": []
    },
    {
      "cell_type": "code",
      "metadata": {
        "id": "dScnO7L-IMQY"
      },
      "source": [
        "#E1 Write a function named readable_timedelta. The function should take one argument, \r\n",
        "# an integer days, and return a string that says how many weeks and days that is.\r\n",
        "\r\n",
        "def readable_timedelta(days):\r\n",
        "    \"\"\"\r\n",
        "    Converts a number of days to the equivalent in week(s) and day(s).\r\n",
        "    \"\"\"\r\n",
        "    return (\"{} week(s) and {} day(s).\".format(days//7,days%7))\r\n",
        "\r\n",
        "print(readable_timedelta(10))"
      ],
      "execution_count": null,
      "outputs": []
    },
    {
      "cell_type": "code",
      "metadata": {
        "colab": {
          "base_uri": "https://localhost:8080/"
        },
        "id": "LVPzslWiRkk9",
        "outputId": "dd98a5f3-7940-4c6e-c8be-545208b0e6fe"
      },
      "source": [
        "# E2 Some useful examples of lambda functions in combination with higher-order functions map and filter\r\n",
        "# EXAMPLE 1\r\n",
        "numbers = [\r\n",
        "              [34, 63, 88, 71, 29],\r\n",
        "              [90, 78, 51, 27, 45],\r\n",
        "              [63, 37, 85, 46, 22],\r\n",
        "              [51, 22, 34, 11, 18]\r\n",
        "           ]\r\n",
        "\r\n",
        "# calculate the average of a list\r\n",
        "mean = lambda num_list : sum(num_list) / len(num_list)\r\n",
        "\r\n",
        "# map() is a higher-order built-in function that takes a function and iterable as inputs, \r\n",
        "# and returns an iterator that applies the function to each element of the iterable. \r\n",
        "averages = list(map(mean, numbers))\r\n",
        "print(averages)\r\n",
        "\r\n",
        "\r\n",
        "# EXAMPLE 2\r\n",
        "cities = [\"New York City\", \"Los Angeles\", \"Chicago\", \"Mountain View\", \"Denver\", \"Boston\"]\r\n",
        "\r\n",
        "# return TRUE if fewer than 10 chars\r\n",
        "is_short = lambda name : len(name) < 10 \r\n",
        "\r\n",
        "# create a list from cities list, filtering for those with fewer than 10 chars\r\n",
        "# filter() is a higher-order built-in function that takes a function and iterable \r\n",
        "# as inputs and returns an iterator with the elements from the iterable for which the function returns True. \r\n",
        "short_cities = list(filter(is_short, cities))\r\n",
        "print(short_cities)"
      ],
      "execution_count": null,
      "outputs": [
        {
          "output_type": "stream",
          "text": [
            "[57.0, 58.2, 50.6, 27.2]\n",
            "['Chicago', 'Denver', 'Boston']\n"
          ],
          "name": "stdout"
        }
      ]
    },
    {
      "cell_type": "markdown",
      "metadata": {
        "id": "D6aUsZrBLfGY"
      },
      "source": [
        "<a id='np_pd'></a>\r\n",
        "### Part VI - Numpy and Pandas Exercises"
      ]
    },
    {
      "cell_type": "code",
      "metadata": {
        "id": "ombt35PZrfGI"
      },
      "source": [
        "# E1 Numpy: \r\n",
        "\r\n",
        "# Using the Built-in functions you learned about in the\r\n",
        "# previous lesson, create a 4 x 4 ndarray that only\r\n",
        "# contains consecutive even numbers from 2 to 32 (inclusive)\r\n",
        "\r\n",
        "import numpy as np\r\n",
        "\r\n",
        "X = np.arange(2,33,2).reshape(4,4)\r\n",
        "\r\n",
        "Y = np.linspace(2,32,16).reshape(4,4)\r\n"
      ],
      "execution_count": null,
      "outputs": []
    },
    {
      "cell_type": "code",
      "metadata": {
        "id": "UInxnErPHo2O"
      },
      "source": [
        "# E2 Numpy, Slicing\r\n",
        "# Create a 5 x 5 ndarray with consecutive integers from 1 to 25 (inclusive).\r\n",
        "# Afterwards use Boolean indexing to pick out only the odd numbers in the array\r\n",
        "\r\n",
        "import numpy as np\r\n",
        "\r\n",
        "# Create a 5 x 5 ndarray with consecutive integers from 1 to 25 (inclusive).\r\n",
        "X = np.arange(1,26).reshape(5,5)\r\n",
        "\r\n",
        "# Use Boolean indexing to pick out only the odd numbers in the array\r\n",
        "Y = X[(X%2!=0)]"
      ],
      "execution_count": null,
      "outputs": []
    },
    {
      "cell_type": "code",
      "metadata": {
        "colab": {
          "base_uri": "https://localhost:8080/"
        },
        "id": "CgneMOXdJ7U6",
        "outputId": "69163ed2-8e44-422c-b974-ca733d1ea1b7"
      },
      "source": [
        "#E3 Numpy, Broadcasting\r\n",
        "# Use Broadcasting to create a 4 x 4 ndarray that has its first\r\n",
        "# column full of 1s, its second column full of 2s, its third\r\n",
        "# column full of 3s, etc.. \r\n",
        "\r\n",
        "X = np.ones((4,4))\r\n",
        "Y = [1,2,3,4]\r\n",
        "print(X*Y)"
      ],
      "execution_count": null,
      "outputs": [
        {
          "output_type": "stream",
          "text": [
            "[[1. 2. 3. 4.]\n",
            " [1. 2. 3. 4.]\n",
            " [1. 2. 3. 4.]\n",
            " [1. 2. 3. 4.]]\n"
          ],
          "name": "stdout"
        }
      ]
    },
    {
      "cell_type": "code",
      "metadata": {
        "id": "lBCsYKjHL1Ed",
        "colab": {
          "base_uri": "https://localhost:8080/"
        },
        "outputId": "8abbae8b-b006-408b-f94d-a575b021ae31"
      },
      "source": [
        "#E4 Pandas\r\n",
        "\r\n",
        "import pandas as pd\r\n",
        "\r\n",
        "# Given a list representing a few planets\r\n",
        "planets = ['Earth','Saturn', 'Venus', 'Mars', 'Jupiter']\r\n",
        "\r\n",
        "# Given the distance from the Sun is in units of 10^6 km\r\n",
        "distance_from_sun = [149.6, 1433.5, 108.2, 227.9, 778.6]\r\n",
        "\r\n",
        "# TO DO: Create a Pandas Series using the lists above, representing the distance of some planets from the Sun.\r\n",
        "dist_planets = pd.Series(data= distance_from_sun, index=planets)\r\n",
        "\r\n",
        "\r\n",
        "# Calculate the time (minutes) it takes sunlight to reach each planet.  \r\n",
        "# Use the speed of light, c = 18, since light travels 18 x 10^6 km/minute.\r\n",
        "c = 18\r\n",
        "time_light = dist_planets/c\r\n",
        "\r\n",
        "\r\n",
        "# TO DO: select only those planets for which sunlight takes less\r\n",
        "# than 40 minutes to reach them.\r\n",
        "print(time_light[time_light<40])"
      ],
      "execution_count": 2,
      "outputs": [
        {
          "output_type": "stream",
          "text": [
            "Earth     8.311111\n",
            "Venus     6.011111\n",
            "Mars     12.661111\n",
            "dtype: float64\n"
          ],
          "name": "stdout"
        }
      ]
    }
  ]
}