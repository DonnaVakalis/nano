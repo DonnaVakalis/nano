{
  "nbformat": 4,
  "nbformat_minor": 0,
  "metadata": {
    "kernelspec": {
      "display_name": "Python 3",
      "language": "python",
      "name": "python3"
    },
    "language_info": {
      "codemirror_mode": {
        "name": "ipython",
        "version": 3
      },
      "file_extension": ".py",
      "mimetype": "text/x-python",
      "name": "python",
      "nbconvert_exporter": "python",
      "pygments_lexer": "ipython3",
      "version": "3.6.3"
    },
    "colab": {
      "name": "Analyze_ab_test_results_notebook.ipynb",
      "provenance": [],
      "include_colab_link": true
    }
  },
  "cells": [
    {
      "cell_type": "markdown",
      "metadata": {
        "id": "view-in-github",
        "colab_type": "text"
      },
      "source": [
        "<a href=\"https://colab.research.google.com/github/DonnaVakalis/nano/blob/master/Analyze_ab_test_results.ipynb\" target=\"_parent\"><img src=\"https://colab.research.google.com/assets/colab-badge.svg\" alt=\"Open In Colab\"/></a>"
      ]
    },
    {
      "cell_type": "markdown",
      "metadata": {
        "id": "aIq2MoYCwKQZ",
        "colab_type": "text"
      },
      "source": [
        "## Analyze A/B Test Results\n",
        "\n",
        " \n",
        "\n",
        "## Table of Contents\n",
        "- [Introduction](#intro)\n",
        "- [Part I - Probability](#probability)\n",
        "- [Part II - A/B Test](#ab_test)\n",
        "- [Part III - Regression](#regression)\n",
        "\n",
        "\n",
        "<a id='intro'></a>\n",
        "### Introduction\n",
        "\n",
        "This project demonstrates an analysis of an A/B test run by a fictional e-commerce website. My goal is to help the company understand if they should implement the new page, keep the old page, or perhaps run the experiment longer to make their decision.\n",
        " \n",
        "\n",
        "<a id='probability'></a>\n",
        "#### Part I - Probability\n",
        "\n",
        "To get started, let's import our libraries."
      ]
    },
    {
      "cell_type": "code",
      "metadata": {
        "id": "8ejm2eFHwKQc",
        "colab_type": "code",
        "colab": {}
      },
      "source": [
        "import pandas as pd\n",
        "import numpy as np\n",
        "import random\n",
        "import matplotlib.pyplot as plt\n",
        "import os\n",
        "from google.colab import drive\n",
        "\n",
        "%matplotlib inline\n",
        "#We are setting the seed to assure you get the same answers on quizzes as we set up\n",
        "random.seed(42)"
      ],
      "execution_count": 2,
      "outputs": []
    },
    {
      "cell_type": "code",
      "metadata": {
        "id": "vb6vvGaCCxFc",
        "colab_type": "code",
        "colab": {
          "base_uri": "https://localhost:8080/",
          "height": 122
        },
        "outputId": "a8afe622-e04f-40fa-fd81-006a68a4ae38"
      },
      "source": [
        "# Mount Google Drive\n",
        "drive.mount('/content/gdrive')\n",
        "os.chdir(\"/content/gdrive/My Drive/\")"
      ],
      "execution_count": 3,
      "outputs": [
        {
          "output_type": "stream",
          "text": [
            "Go to this URL in a browser: https://accounts.google.com/o/oauth2/auth?client_id=947318989803-6bn6qk8qdgf4n4g3pfee6491hc0brc4i.apps.googleusercontent.com&redirect_uri=urn%3aietf%3awg%3aoauth%3a2.0%3aoob&scope=email%20https%3a%2f%2fwww.googleapis.com%2fauth%2fdocs.test%20https%3a%2f%2fwww.googleapis.com%2fauth%2fdrive%20https%3a%2f%2fwww.googleapis.com%2fauth%2fdrive.photos.readonly%20https%3a%2f%2fwww.googleapis.com%2fauth%2fpeopleapi.readonly&response_type=code\n",
            "\n",
            "Enter your authorization code:\n",
            "··········\n",
            "Mounted at /content/gdrive\n"
          ],
          "name": "stdout"
        }
      ]
    },
    {
      "cell_type": "markdown",
      "metadata": {
        "id": "VKfrdxIewKQh",
        "colab_type": "text"
      },
      "source": [
        "`1.` Now, read in the `ab_data.csv` data. Store it in `df`.  **Use your dataframe to answer the questions in Quiz 1 of the classroom.**\n",
        "\n",
        "a. Read in the dataset and take a look at the top few rows here:"
      ]
    },
    {
      "cell_type": "code",
      "metadata": {
        "id": "Vzgd2STYwKQi",
        "colab_type": "code",
        "colab": {
          "base_uri": "https://localhost:8080/",
          "height": 197
        },
        "outputId": "41377dee-6fe4-4f71-cb23-99102e3ecb9f"
      },
      "source": [
        "base_dir =  \"/content/gdrive/My Drive/Colab Notebooks/UdacityAB/\"\n",
        "file = base_dir + \"ab_data.csv\"\n",
        "df= pd.read_csv(file)\n",
        "df.head()"
      ],
      "execution_count": 4,
      "outputs": [
        {
          "output_type": "execute_result",
          "data": {
            "text/html": [
              "<div>\n",
              "<style scoped>\n",
              "    .dataframe tbody tr th:only-of-type {\n",
              "        vertical-align: middle;\n",
              "    }\n",
              "\n",
              "    .dataframe tbody tr th {\n",
              "        vertical-align: top;\n",
              "    }\n",
              "\n",
              "    .dataframe thead th {\n",
              "        text-align: right;\n",
              "    }\n",
              "</style>\n",
              "<table border=\"1\" class=\"dataframe\">\n",
              "  <thead>\n",
              "    <tr style=\"text-align: right;\">\n",
              "      <th></th>\n",
              "      <th>user_id</th>\n",
              "      <th>timestamp</th>\n",
              "      <th>group</th>\n",
              "      <th>landing_page</th>\n",
              "      <th>converted</th>\n",
              "    </tr>\n",
              "  </thead>\n",
              "  <tbody>\n",
              "    <tr>\n",
              "      <th>0</th>\n",
              "      <td>851104</td>\n",
              "      <td>2017-01-21 22:11:48.556739</td>\n",
              "      <td>control</td>\n",
              "      <td>old_page</td>\n",
              "      <td>0</td>\n",
              "    </tr>\n",
              "    <tr>\n",
              "      <th>1</th>\n",
              "      <td>804228</td>\n",
              "      <td>2017-01-12 08:01:45.159739</td>\n",
              "      <td>control</td>\n",
              "      <td>old_page</td>\n",
              "      <td>0</td>\n",
              "    </tr>\n",
              "    <tr>\n",
              "      <th>2</th>\n",
              "      <td>661590</td>\n",
              "      <td>2017-01-11 16:55:06.154213</td>\n",
              "      <td>treatment</td>\n",
              "      <td>new_page</td>\n",
              "      <td>0</td>\n",
              "    </tr>\n",
              "    <tr>\n",
              "      <th>3</th>\n",
              "      <td>853541</td>\n",
              "      <td>2017-01-08 18:28:03.143765</td>\n",
              "      <td>treatment</td>\n",
              "      <td>new_page</td>\n",
              "      <td>0</td>\n",
              "    </tr>\n",
              "    <tr>\n",
              "      <th>4</th>\n",
              "      <td>864975</td>\n",
              "      <td>2017-01-21 01:52:26.210827</td>\n",
              "      <td>control</td>\n",
              "      <td>old_page</td>\n",
              "      <td>1</td>\n",
              "    </tr>\n",
              "  </tbody>\n",
              "</table>\n",
              "</div>"
            ],
            "text/plain": [
              "   user_id                   timestamp      group landing_page  converted\n",
              "0   851104  2017-01-21 22:11:48.556739    control     old_page          0\n",
              "1   804228  2017-01-12 08:01:45.159739    control     old_page          0\n",
              "2   661590  2017-01-11 16:55:06.154213  treatment     new_page          0\n",
              "3   853541  2017-01-08 18:28:03.143765  treatment     new_page          0\n",
              "4   864975  2017-01-21 01:52:26.210827    control     old_page          1"
            ]
          },
          "metadata": {
            "tags": []
          },
          "execution_count": 4
        }
      ]
    },
    {
      "cell_type": "markdown",
      "metadata": {
        "id": "P6jwKlGbwKQn",
        "colab_type": "text"
      },
      "source": [
        "b. Use the cell below to find the number of rows in the dataset."
      ]
    },
    {
      "cell_type": "code",
      "metadata": {
        "id": "H_xxPvf3wKQo",
        "colab_type": "code",
        "colab": {
          "base_uri": "https://localhost:8080/",
          "height": 34
        },
        "outputId": "91956198-503f-41b0-f465-d2c8b54376c9"
      },
      "source": [
        "df.shape"
      ],
      "execution_count": 19,
      "outputs": [
        {
          "output_type": "execute_result",
          "data": {
            "text/plain": [
              "(294478, 5)"
            ]
          },
          "metadata": {
            "tags": []
          },
          "execution_count": 19
        }
      ]
    },
    {
      "cell_type": "markdown",
      "metadata": {
        "id": "ERUZSnQMwKQr",
        "colab_type": "text"
      },
      "source": [
        "c. The number of unique users in the dataset."
      ]
    },
    {
      "cell_type": "code",
      "metadata": {
        "id": "BTXRFZ3PwKQs",
        "colab_type": "code",
        "colab": {
          "base_uri": "https://localhost:8080/",
          "height": 119
        },
        "outputId": "cc1aa52e-55ca-442a-a00d-3e9f43bedd7c"
      },
      "source": [
        "df.nunique()"
      ],
      "execution_count": 5,
      "outputs": [
        {
          "output_type": "execute_result",
          "data": {
            "text/plain": [
              "user_id         290584\n",
              "timestamp       294478\n",
              "group                2\n",
              "landing_page         2\n",
              "converted            2\n",
              "dtype: int64"
            ]
          },
          "metadata": {
            "tags": []
          },
          "execution_count": 5
        }
      ]
    },
    {
      "cell_type": "markdown",
      "metadata": {
        "collapsed": true,
        "id": "hxlWfGAAwKQw",
        "colab_type": "text"
      },
      "source": [
        "d. The proportion of users converted."
      ]
    },
    {
      "cell_type": "code",
      "metadata": {
        "id": "Ms-ENuUmwKQx",
        "colab_type": "code",
        "colab": {
          "base_uri": "https://localhost:8080/",
          "height": 34
        },
        "outputId": "d6d8334c-9edf-4193-d594-da2cde64fe82"
      },
      "source": [
        "df.converted.mean()"
      ],
      "execution_count": 6,
      "outputs": [
        {
          "output_type": "execute_result",
          "data": {
            "text/plain": [
              "0.11965919355605512"
            ]
          },
          "metadata": {
            "tags": []
          },
          "execution_count": 6
        }
      ]
    },
    {
      "cell_type": "markdown",
      "metadata": {
        "collapsed": true,
        "id": "FulIIunywKQ1",
        "colab_type": "text"
      },
      "source": [
        "e. The number of times the `new_page` and `treatment` don't match."
      ]
    },
    {
      "cell_type": "code",
      "metadata": {
        "id": "gabQ6u_PwKQ1",
        "colab_type": "code",
        "colab": {
          "base_uri": "https://localhost:8080/",
          "height": 34
        },
        "outputId": "19c01784-f3b0-43dd-be7d-4ccdfe583fc6"
      },
      "source": [
        "no_match1 = df[df['group'] == 'treatment']['landing_page'] == 'old_page'\n",
        "no_match2 = df[df['group'] == 'control']['landing_page'] == 'new_page'\n",
        "print(sum(no_match1) + sum(no_match2))"
      ],
      "execution_count": 17,
      "outputs": [
        {
          "output_type": "stream",
          "text": [
            "3893\n"
          ],
          "name": "stdout"
        }
      ]
    },
    {
      "cell_type": "markdown",
      "metadata": {
        "id": "upBC-6AqwKQ6",
        "colab_type": "text"
      },
      "source": [
        "f. Do any of the rows have missing values?"
      ]
    },
    {
      "cell_type": "code",
      "metadata": {
        "id": "yeLA4SpFwKQ7",
        "colab_type": "code",
        "colab": {
          "base_uri": "https://localhost:8080/",
          "height": 119
        },
        "outputId": "a9db9e0f-e893-481e-d798-a0c794c9f4f3"
      },
      "source": [
        "df.isnull().sum()"
      ],
      "execution_count": 8,
      "outputs": [
        {
          "output_type": "execute_result",
          "data": {
            "text/plain": [
              "user_id         0\n",
              "timestamp       0\n",
              "group           0\n",
              "landing_page    0\n",
              "converted       0\n",
              "dtype: int64"
            ]
          },
          "metadata": {
            "tags": []
          },
          "execution_count": 8
        }
      ]
    },
    {
      "cell_type": "markdown",
      "metadata": {
        "id": "IXfWowaXwKQ_",
        "colab_type": "text"
      },
      "source": [
        "`2.` For the rows where **treatment** does not match with **new_page** or **control** does not match with **old_page**, we cannot be sure if this row truly received the new or old page.  Use **Quiz 2** in the classroom to figure out how we should handle these rows.  \n",
        "\n",
        "a. Now use the answer to the quiz to create a new dataset that meets the specifications from the quiz.  Store your new dataframe in **df2**."
      ]
    },
    {
      "cell_type": "code",
      "metadata": {
        "id": "IT-rAGBcwKRA",
        "colab_type": "code",
        "colab": {}
      },
      "source": [
        "# Remove rows where there is no match \n",
        "df_=df.copy()\n",
        "df_.drop(no_match1.index)\n",
        "df_.drop(no_match2.index)\n",
        "df2=df_"
      ],
      "execution_count": 24,
      "outputs": []
    },
    {
      "cell_type": "code",
      "metadata": {
        "id": "-nzSAY6hwKRE",
        "colab_type": "code",
        "colab": {
          "base_uri": "https://localhost:8080/",
          "height": 34
        },
        "outputId": "ef0717a4-8781-45a5-93a3-4da8c5d8bed0"
      },
      "source": [
        "# Double Check all of the correct rows were removed - this should be 0\n",
        "df2[((df2['group'] == 'treatment') == (df2['landing_page'] == 'new_page')) == False].shape[0]"
      ],
      "execution_count": 25,
      "outputs": [
        {
          "output_type": "execute_result",
          "data": {
            "text/plain": [
              "3893"
            ]
          },
          "metadata": {
            "tags": []
          },
          "execution_count": 25
        }
      ]
    },
    {
      "cell_type": "markdown",
      "metadata": {
        "id": "YcLhVOeswKRI",
        "colab_type": "text"
      },
      "source": [
        "`3.` Use **df2** and the cells below to answer questions for **Quiz3** in the classroom."
      ]
    },
    {
      "cell_type": "markdown",
      "metadata": {
        "id": "CnBnKguHwKRJ",
        "colab_type": "text"
      },
      "source": [
        "a. How many unique **user_id**s are in **df2**?"
      ]
    },
    {
      "cell_type": "code",
      "metadata": {
        "id": "tA1hJ4r4wKRJ",
        "colab_type": "code",
        "colab": {
          "base_uri": "https://localhost:8080/",
          "height": 34
        },
        "outputId": "f5b3b038-f458-4bcf-f907-bace038ee532"
      },
      "source": [
        "df2.user_id.nunique()"
      ],
      "execution_count": 27,
      "outputs": [
        {
          "output_type": "execute_result",
          "data": {
            "text/plain": [
              "290584"
            ]
          },
          "metadata": {
            "tags": []
          },
          "execution_count": 27
        }
      ]
    },
    {
      "cell_type": "markdown",
      "metadata": {
        "collapsed": true,
        "id": "5ANGlUDxwKRO",
        "colab_type": "text"
      },
      "source": [
        "b. There is one **user_id** repeated in **df2**.  What is it?"
      ]
    },
    {
      "cell_type": "code",
      "metadata": {
        "id": "xshg__vjwKRP",
        "colab_type": "code",
        "colab": {
          "base_uri": "https://localhost:8080/",
          "height": 48
        },
        "outputId": "3bc609e8-ff69-4ad4-9815-6d8273eed781"
      },
      "source": [
        "duplicateID_1 = df2[df2.duplicated(['user_id', 'group'])]\n",
        "duplicatedID_2 = df2[df2.duplicated(['user_id'])]\n",
        "duplicateID_1[~duplicateID_1.isin(duplicatedID_2 )].dropna()\n",
        " "
      ],
      "execution_count": 31,
      "outputs": [
        {
          "output_type": "execute_result",
          "data": {
            "text/html": [
              "<div>\n",
              "<style scoped>\n",
              "    .dataframe tbody tr th:only-of-type {\n",
              "        vertical-align: middle;\n",
              "    }\n",
              "\n",
              "    .dataframe tbody tr th {\n",
              "        vertical-align: top;\n",
              "    }\n",
              "\n",
              "    .dataframe thead th {\n",
              "        text-align: right;\n",
              "    }\n",
              "</style>\n",
              "<table border=\"1\" class=\"dataframe\">\n",
              "  <thead>\n",
              "    <tr style=\"text-align: right;\">\n",
              "      <th></th>\n",
              "      <th>user_id</th>\n",
              "      <th>timestamp</th>\n",
              "      <th>group</th>\n",
              "      <th>landing_page</th>\n",
              "      <th>converted</th>\n",
              "    </tr>\n",
              "  </thead>\n",
              "  <tbody>\n",
              "  </tbody>\n",
              "</table>\n",
              "</div>"
            ],
            "text/plain": [
              "Empty DataFrame\n",
              "Columns: [user_id, timestamp, group, landing_page, converted]\n",
              "Index: []"
            ]
          },
          "metadata": {
            "tags": []
          },
          "execution_count": 31
        }
      ]
    },
    {
      "cell_type": "markdown",
      "metadata": {
        "id": "RXJ_IVgtwKRS",
        "colab_type": "text"
      },
      "source": [
        "c. What is the row information for the repeat **user_id**? "
      ]
    },
    {
      "cell_type": "code",
      "metadata": {
        "id": "xeujV4AywKRT",
        "colab_type": "code",
        "colab": {}
      },
      "source": [
        ""
      ],
      "execution_count": null,
      "outputs": []
    },
    {
      "cell_type": "markdown",
      "metadata": {
        "id": "gCAe4G4ewKRY",
        "colab_type": "text"
      },
      "source": [
        "d. Remove **one** of the rows with a duplicate **user_id**, but keep your dataframe as **df2**."
      ]
    },
    {
      "cell_type": "code",
      "metadata": {
        "id": "iuF51AP1wKRZ",
        "colab_type": "code",
        "colab": {}
      },
      "source": [
        "df2.drop_duplicates(subset =\"user_id\", \n",
        "                     keep = \"last\", inplace = True)"
      ],
      "execution_count": null,
      "outputs": []
    },
    {
      "cell_type": "markdown",
      "metadata": {
        "id": "_yd-q6ZRwKRc",
        "colab_type": "text"
      },
      "source": [
        "`4.` Use **df2** in the cells below to answer the quiz questions related to **Quiz 4** in the classroom.\n",
        "\n",
        "a. What is the probability of an individual converting regardless of the page they receive?"
      ]
    },
    {
      "cell_type": "code",
      "metadata": {
        "id": "y6u-67duwKRc",
        "colab_type": "code",
        "colab": {}
      },
      "source": [
        ""
      ],
      "execution_count": null,
      "outputs": []
    },
    {
      "cell_type": "markdown",
      "metadata": {
        "id": "IWEFCmjkwKRh",
        "colab_type": "text"
      },
      "source": [
        "b. Given that an individual was in the `control` group, what is the probability they converted?"
      ]
    },
    {
      "cell_type": "code",
      "metadata": {
        "id": "XFHoRZZSwKRi",
        "colab_type": "code",
        "colab": {}
      },
      "source": [
        ""
      ],
      "execution_count": null,
      "outputs": []
    },
    {
      "cell_type": "markdown",
      "metadata": {
        "id": "XTSPR6CNwKRm",
        "colab_type": "text"
      },
      "source": [
        "c. Given that an individual was in the `treatment` group, what is the probability they converted?"
      ]
    },
    {
      "cell_type": "code",
      "metadata": {
        "id": "F4dmjzXswKRn",
        "colab_type": "code",
        "colab": {}
      },
      "source": [
        ""
      ],
      "execution_count": null,
      "outputs": []
    },
    {
      "cell_type": "markdown",
      "metadata": {
        "id": "HmEfkFabwKRq",
        "colab_type": "text"
      },
      "source": [
        "d. What is the probability that an individual received the new page?"
      ]
    },
    {
      "cell_type": "code",
      "metadata": {
        "id": "YgljMmOZwKRr",
        "colab_type": "code",
        "colab": {}
      },
      "source": [
        ""
      ],
      "execution_count": null,
      "outputs": []
    },
    {
      "cell_type": "markdown",
      "metadata": {
        "id": "wBsYTGe1wKRu",
        "colab_type": "text"
      },
      "source": [
        "e. Consider your results from parts (a) through (d) above, and explain below whether you think there is sufficient evidence to conclude that the new treatment page leads to more conversions."
      ]
    },
    {
      "cell_type": "markdown",
      "metadata": {
        "id": "68JiTr2QwKRu",
        "colab_type": "text"
      },
      "source": [
        "**Your answer goes here.**"
      ]
    },
    {
      "cell_type": "markdown",
      "metadata": {
        "id": "_E0WHWP-wKRv",
        "colab_type": "text"
      },
      "source": [
        "<a id='ab_test'></a>\n",
        "### Part II - A/B Test\n",
        "\n",
        "Notice that because of the time stamp associated with each event, you could technically run a hypothesis test continuously as each observation was observed.  \n",
        "\n",
        "However, then the hard question is do you stop as soon as one page is considered significantly better than another or does it need to happen consistently for a certain amount of time?  How long do you run to render a decision that neither page is better than another?  \n",
        "\n",
        "These questions are the difficult parts associated with A/B tests in general.  \n",
        "\n",
        "\n",
        "`1.` For now, consider you need to make the decision just based on all the data provided.  If you want to assume that the old page is better unless the new page proves to be definitely better at a Type I error rate of 5%, what should your null and alternative hypotheses be?  You can state your hypothesis in terms of words or in terms of **$p_{old}$** and **$p_{new}$**, which are the converted rates for the old and new pages."
      ]
    },
    {
      "cell_type": "markdown",
      "metadata": {
        "id": "WhoA7jrHwKRv",
        "colab_type": "text"
      },
      "source": [
        "**Put your answer here.**\n",
        "\n",
        "Null Hypothesis: \"The new page is the same or worse than the old page\". \n",
        "**$p_{new}$** - **$p_{old}$** <= 0\n",
        "\n",
        "Alternative Hypothesis: \"The new page is better than the old page\".\n",
        "**$p_{new}$** - **$p_{old}$** > 0"
      ]
    },
    {
      "cell_type": "markdown",
      "metadata": {
        "id": "C--KuEw-wKRv",
        "colab_type": "text"
      },
      "source": [
        "`2.` Assume under the null hypothesis, $p_{new}$ and $p_{old}$ both have \"true\" success rates equal to the **converted** success rate regardless of page - that is $p_{new}$ and $p_{old}$ are equal. Furthermore, assume they are equal to the **converted** rate in **ab_data.csv** regardless of the page. <br><br>\n",
        "\n",
        "Use a sample size for each page equal to the ones in **ab_data.csv**.  <br><br>\n",
        "\n",
        "Perform the sampling distribution for the difference in **converted** between the two pages over 10,000 iterations of calculating an estimate from the null.  <br><br>\n",
        "\n",
        "Use the cells below to provide the necessary parts of this simulation.  If this doesn't make complete sense right now, don't worry - you are going to work through the problems below to complete this problem.  You can use **Quiz 5** in the classroom to make sure you are on the right track.<br><br>"
      ]
    },
    {
      "cell_type": "markdown",
      "metadata": {
        "id": "JDTyqLjzwKRw",
        "colab_type": "text"
      },
      "source": [
        "a. What is the **conversion rate** for $p_{new}$ under the null? "
      ]
    },
    {
      "cell_type": "code",
      "metadata": {
        "id": "3tQXJ5kzwKRx",
        "colab_type": "code",
        "colab": {}
      },
      "source": [
        ""
      ],
      "execution_count": null,
      "outputs": []
    },
    {
      "cell_type": "markdown",
      "metadata": {
        "id": "j2YFeLPdwKRz",
        "colab_type": "text"
      },
      "source": [
        "b. What is the **conversion rate** for $p_{old}$ under the null? <br><br>"
      ]
    },
    {
      "cell_type": "code",
      "metadata": {
        "id": "DpddgzwSwKR0",
        "colab_type": "code",
        "colab": {}
      },
      "source": [
        ""
      ],
      "execution_count": null,
      "outputs": []
    },
    {
      "cell_type": "markdown",
      "metadata": {
        "id": "TXYGMH44wKR5",
        "colab_type": "text"
      },
      "source": [
        "c. What is $n_{new}$, the number of individuals in the treatment group?"
      ]
    },
    {
      "cell_type": "code",
      "metadata": {
        "id": "f-HjDGfYwKR5",
        "colab_type": "code",
        "colab": {}
      },
      "source": [
        ""
      ],
      "execution_count": null,
      "outputs": []
    },
    {
      "cell_type": "markdown",
      "metadata": {
        "id": "a7JahpCfwKR8",
        "colab_type": "text"
      },
      "source": [
        "d. What is $n_{old}$, the number of individuals in the control group?"
      ]
    },
    {
      "cell_type": "code",
      "metadata": {
        "id": "iyW5fc4cwKR9",
        "colab_type": "code",
        "colab": {}
      },
      "source": [
        ""
      ],
      "execution_count": null,
      "outputs": []
    },
    {
      "cell_type": "markdown",
      "metadata": {
        "id": "PwBSIvlTwKR_",
        "colab_type": "text"
      },
      "source": [
        "e. Simulate $n_{new}$ transactions with a conversion rate of $p_{new}$ under the null.  Store these $n_{new}$ 1's and 0's in **new_page_converted**."
      ]
    },
    {
      "cell_type": "code",
      "metadata": {
        "id": "2eXAaeBkwKSA",
        "colab_type": "code",
        "colab": {}
      },
      "source": [
        ""
      ],
      "execution_count": null,
      "outputs": []
    },
    {
      "cell_type": "markdown",
      "metadata": {
        "id": "FT9dLFTUwKSC",
        "colab_type": "text"
      },
      "source": [
        "f. Simulate $n_{old}$ transactions with a conversion rate of $p_{old}$ under the null.  Store these $n_{old}$ 1's and 0's in **old_page_converted**."
      ]
    },
    {
      "cell_type": "code",
      "metadata": {
        "id": "ePLnQ1U5wKSC",
        "colab_type": "code",
        "colab": {}
      },
      "source": [
        ""
      ],
      "execution_count": null,
      "outputs": []
    },
    {
      "cell_type": "markdown",
      "metadata": {
        "id": "89hla2JywKSE",
        "colab_type": "text"
      },
      "source": [
        "g. Find $p_{new}$ - $p_{old}$ for your simulated values from part (e) and (f)."
      ]
    },
    {
      "cell_type": "code",
      "metadata": {
        "id": "B5MQqmy7wKSF",
        "colab_type": "code",
        "colab": {}
      },
      "source": [
        ""
      ],
      "execution_count": null,
      "outputs": []
    },
    {
      "cell_type": "markdown",
      "metadata": {
        "id": "LhzoGUGJwKSH",
        "colab_type": "text"
      },
      "source": [
        "h. Create 10,000 $p_{new}$ - $p_{old}$ values using the same simulation process you used in parts (a) through (g) above. Store all 10,000 values in a NumPy array called **p_diffs**."
      ]
    },
    {
      "cell_type": "code",
      "metadata": {
        "id": "zJMifJSTwKSI",
        "colab_type": "code",
        "colab": {}
      },
      "source": [
        ""
      ],
      "execution_count": null,
      "outputs": []
    },
    {
      "cell_type": "markdown",
      "metadata": {
        "id": "_GlABQWGwKSK",
        "colab_type": "text"
      },
      "source": [
        "i. Plot a histogram of the **p_diffs**.  Does this plot look like what you expected?  Use the matching problem in the classroom to assure you fully understand what was computed here."
      ]
    },
    {
      "cell_type": "code",
      "metadata": {
        "id": "eVTCuIqEwKSK",
        "colab_type": "code",
        "colab": {}
      },
      "source": [
        ""
      ],
      "execution_count": null,
      "outputs": []
    },
    {
      "cell_type": "markdown",
      "metadata": {
        "id": "DgJ06xYvwKSM",
        "colab_type": "text"
      },
      "source": [
        "j. What proportion of the **p_diffs** are greater than the actual difference observed in **ab_data.csv**?"
      ]
    },
    {
      "cell_type": "code",
      "metadata": {
        "id": "FMcQtKZjwKSN",
        "colab_type": "code",
        "colab": {}
      },
      "source": [
        ""
      ],
      "execution_count": null,
      "outputs": []
    },
    {
      "cell_type": "markdown",
      "metadata": {
        "id": "uvhK4EiCwKSQ",
        "colab_type": "text"
      },
      "source": [
        "k. Please explain using the vocabulary you've learned in this course what you just computed in part **j.**  What is this value called in scientific studies?  What does this value mean in terms of whether or not there is a difference between the new and old pages?"
      ]
    },
    {
      "cell_type": "markdown",
      "metadata": {
        "id": "U5bicl6xwKSR",
        "colab_type": "text"
      },
      "source": [
        "**Put your answer here.**"
      ]
    },
    {
      "cell_type": "markdown",
      "metadata": {
        "id": "VVAc-qxtwKSS",
        "colab_type": "text"
      },
      "source": [
        "l. We could also use a built-in to achieve similar results.  Though using the built-in might be easier to code, the above portions are a walkthrough of the ideas that are critical to correctly thinking about statistical significance. Fill in the below to calculate the number of conversions for each page, as well as the number of individuals who received each page. Let `n_old` and `n_new` refer the the number of rows associated with the old page and new pages, respectively."
      ]
    },
    {
      "cell_type": "code",
      "metadata": {
        "id": "6_bOg0CywKST",
        "colab_type": "code",
        "colab": {}
      },
      "source": [
        "import statsmodels.api as sm\n",
        "\n",
        "convert_old = \n",
        "convert_new = \n",
        "n_old = \n",
        "n_new = "
      ],
      "execution_count": null,
      "outputs": []
    },
    {
      "cell_type": "markdown",
      "metadata": {
        "id": "4pD1uY4GwKSZ",
        "colab_type": "text"
      },
      "source": [
        "m. Now use `stats.proportions_ztest` to compute your test statistic and p-value.  [Here](https://docs.w3cub.com/statsmodels/generated/statsmodels.stats.proportion.proportions_ztest/) is a helpful link on using the built in."
      ]
    },
    {
      "cell_type": "code",
      "metadata": {
        "id": "ig2-cMe_wKSa",
        "colab_type": "code",
        "colab": {}
      },
      "source": [
        ""
      ],
      "execution_count": null,
      "outputs": []
    },
    {
      "cell_type": "markdown",
      "metadata": {
        "id": "W0QxOJZRwKSd",
        "colab_type": "text"
      },
      "source": [
        "n. What do the z-score and p-value you computed in the previous question mean for the conversion rates of the old and new pages?  Do they agree with the findings in parts **j.** and **k.**?"
      ]
    },
    {
      "cell_type": "markdown",
      "metadata": {
        "id": "KKKtbSZFwKSd",
        "colab_type": "text"
      },
      "source": [
        "**Put your answer here.**"
      ]
    },
    {
      "cell_type": "markdown",
      "metadata": {
        "id": "yAeMby4dwKSe",
        "colab_type": "text"
      },
      "source": [
        "<a id='regression'></a>\n",
        "### Part III - A regression approach\n",
        "\n",
        "`1.` In this final part, you will see that the result you achieved in the A/B test in Part II above can also be achieved by performing regression.<br><br> \n",
        "\n",
        "a. Since each row is either a conversion or no conversion, what type of regression should you be performing in this case?"
      ]
    },
    {
      "cell_type": "markdown",
      "metadata": {
        "id": "76eYmvn7wKSe",
        "colab_type": "text"
      },
      "source": [
        "**Put your answer here.**"
      ]
    },
    {
      "cell_type": "markdown",
      "metadata": {
        "id": "k6BqP15wwKSe",
        "colab_type": "text"
      },
      "source": [
        "b. The goal is to use **statsmodels** to fit the regression model you specified in part **a.** to see if there is a significant difference in conversion based on which page a customer receives. However, you first need to create in df2 a column for the intercept, and create a dummy variable column for which page each user received.  Add an **intercept** column, as well as an **ab_page** column, which is 1 when an individual receives the **treatment** and 0 if **control**."
      ]
    },
    {
      "cell_type": "code",
      "metadata": {
        "collapsed": true,
        "id": "rmrXUZazwKSf",
        "colab_type": "code",
        "colab": {}
      },
      "source": [
        ""
      ],
      "execution_count": null,
      "outputs": []
    },
    {
      "cell_type": "markdown",
      "metadata": {
        "id": "qW73z05CwKSh",
        "colab_type": "text"
      },
      "source": [
        "c. Use **statsmodels** to instantiate your regression model on the two columns you created in part b., then fit the model using the two columns you created in part **b.** to predict whether or not an individual converts. "
      ]
    },
    {
      "cell_type": "code",
      "metadata": {
        "collapsed": true,
        "id": "1oY9aV5IwKSi",
        "colab_type": "code",
        "colab": {}
      },
      "source": [
        ""
      ],
      "execution_count": null,
      "outputs": []
    },
    {
      "cell_type": "markdown",
      "metadata": {
        "id": "6ZUYMIRZwKSn",
        "colab_type": "text"
      },
      "source": [
        "d. Provide the summary of your model below, and use it as necessary to answer the following questions."
      ]
    },
    {
      "cell_type": "code",
      "metadata": {
        "collapsed": true,
        "id": "Wn2JN30uwKSo",
        "colab_type": "code",
        "colab": {}
      },
      "source": [
        ""
      ],
      "execution_count": null,
      "outputs": []
    },
    {
      "cell_type": "markdown",
      "metadata": {
        "id": "01WGP3OMwKSt",
        "colab_type": "text"
      },
      "source": [
        "e. What is the p-value associated with **ab_page**? Why does it differ from the value you found in **Part II**?<br><br>  **Hint**: What are the null and alternative hypotheses associated with your regression model, and how do they compare to the null and alternative hypotheses in **Part II**?"
      ]
    },
    {
      "cell_type": "markdown",
      "metadata": {
        "id": "OMaA0sXXwKSu",
        "colab_type": "text"
      },
      "source": [
        "**Put your answer here.**"
      ]
    },
    {
      "cell_type": "markdown",
      "metadata": {
        "id": "OO2e5SIFwKSv",
        "colab_type": "text"
      },
      "source": [
        "f. Now, you are considering other things that might influence whether or not an individual converts.  Discuss why it is a good idea to consider other factors to add into your regression model.  Are there any disadvantages to adding additional terms into your regression model?"
      ]
    },
    {
      "cell_type": "markdown",
      "metadata": {
        "id": "qHA_8KKcwKSw",
        "colab_type": "text"
      },
      "source": [
        "**Put your answer here.**"
      ]
    },
    {
      "cell_type": "markdown",
      "metadata": {
        "id": "tOQUyTtEwKSw",
        "colab_type": "text"
      },
      "source": [
        "g. Now along with testing if the conversion rate changes for different pages, also add an effect based on which country a user lives in. You will need to read in the **countries.csv** dataset and merge together your datasets on the appropriate rows.  [Here](https://pandas.pydata.org/pandas-docs/stable/generated/pandas.DataFrame.join.html) are the docs for joining tables. \n",
        "\n",
        "Does it appear that country had an impact on conversion?  Don't forget to create dummy variables for these country columns - **Hint: You will need two columns for the three dummy variables.** Provide the statistical output as well as a written response to answer this question."
      ]
    },
    {
      "cell_type": "code",
      "metadata": {
        "collapsed": true,
        "id": "xXrmJEPuwKSx",
        "colab_type": "code",
        "colab": {}
      },
      "source": [
        ""
      ],
      "execution_count": null,
      "outputs": []
    },
    {
      "cell_type": "markdown",
      "metadata": {
        "id": "-vPZJ3mDwKS1",
        "colab_type": "text"
      },
      "source": [
        "h. Though you have now looked at the individual factors of country and page on conversion, we would now like to look at an interaction between page and country to see if there significant effects on conversion.  Create the necessary additional columns, and fit the new model.  \n",
        "\n",
        "Provide the summary results, and your conclusions based on the results."
      ]
    },
    {
      "cell_type": "code",
      "metadata": {
        "collapsed": true,
        "id": "4jjc0twtwKS2",
        "colab_type": "code",
        "colab": {}
      },
      "source": [
        ""
      ],
      "execution_count": null,
      "outputs": []
    },
    {
      "cell_type": "markdown",
      "metadata": {
        "id": "gqpmoIjMwKS5",
        "colab_type": "text"
      },
      "source": [
        "<a id='conclusions'></a>\n",
        "## Finishing Up\n",
        "\n",
        "> Congratulations!  You have reached the end of the A/B Test Results project!  You should be very proud of all you have accomplished!\n",
        "\n",
        "> **Tip**: Once you are satisfied with your work here, check over your report to make sure that it is satisfies all the areas of the rubric (found on the project submission page at the end of the lesson). You should also probably remove all of the \"Tips\" like this one so that the presentation is as polished as possible.\n",
        "\n",
        "\n",
        "## Directions to Submit\n",
        "\n",
        "> Before you submit your project, you need to create a .html or .pdf version of this notebook in the workspace here. To do that, run the code cell below. If it worked correctly, you should get a return code of 0, and you should see the generated .html file in the workspace directory (click on the orange Jupyter icon in the upper left).\n",
        "\n",
        "> Alternatively, you can download this report as .html via the **File** > **Download as** submenu, and then manually upload it into the workspace directory by clicking on the orange Jupyter icon in the upper left, then using the Upload button.\n",
        "\n",
        "> Once you've done this, you can submit your project by clicking on the \"Submit Project\" button in the lower right here. This will create and submit a zip file with this .ipynb doc and the .html or .pdf version you created. Congratulations!"
      ]
    },
    {
      "cell_type": "code",
      "metadata": {
        "id": "BuukiLc0wKS6",
        "colab_type": "code",
        "colab": {}
      },
      "source": [
        "from subprocess import call\n",
        "call(['python', '-m', 'nbconvert', 'Analyze_ab_test_results_notebook.ipynb'])"
      ],
      "execution_count": null,
      "outputs": []
    }
  ]
}