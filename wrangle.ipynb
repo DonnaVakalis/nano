{
  "nbformat": 4,
  "nbformat_minor": 0,
  "metadata": {
    "colab": {
      "name": "wrangle.ipynb",
      "provenance": [],
      "authorship_tag": "ABX9TyNR1AuoLtwdlaIiAD6+8VpE",
      "include_colab_link": true
    },
    "kernelspec": {
      "name": "python3",
      "display_name": "Python 3"
    }
  },
  "cells": [
    {
      "cell_type": "markdown",
      "metadata": {
        "id": "view-in-github",
        "colab_type": "text"
      },
      "source": [
        "<a href=\"https://colab.research.google.com/github/DonnaVakalis/nano/blob/master/wrangle.ipynb\" target=\"_parent\"><img src=\"https://colab.research.google.com/assets/colab-badge.svg\" alt=\"Open In Colab\"/></a>"
      ]
    },
    {
      "cell_type": "markdown",
      "metadata": {
        "id": "LgSxnnZxTJhO"
      },
      "source": [
        "## Wrangle Project\n",
        "\n",
        " \n",
        "\n",
        "## Table of Contents\n",
        "- [Introduction](#intro)\n",
        "- [Part I - Setup](#partone)\n",
        "- [Part II - Questions and Answers ](#parttwo)\n",
        "\n",
        "\n",
        "<a id='intro'></a>\n",
        "### Introduction\n",
        "\n",
        "This notebook gathers, assesses then analyses some data from WeRateDogs twitter feed. The results of the analysis are then presented at the end. "
      ]
    },
    {
      "cell_type": "markdown",
      "metadata": {
        "id": "9quryLOqTrFW"
      },
      "source": [
        "<a id='partone'></a>\n",
        "### Part I - Setup"
      ]
    },
    {
      "cell_type": "code",
      "metadata": {
        "id": "I77jWUWyTX6j"
      },
      "source": [
        "# import libraries\n",
        "\n",
        "import pandas as pd # for everything! \n",
        "import numpy as np # diddo\n",
        "import datetime # for comparing issuance/filing/expiration dates\n",
        "import matplotlib.pyplot as plt # for visualizing answers\n",
        "from scipy.stats import chi2_contingency # for chi squared test\n",
        "\n",
        "%matplotlib inline"
      ],
      "execution_count": null,
      "outputs": []
    },
    {
      "cell_type": "code",
      "metadata": {
        "id": "hfQePJ_KTvNt"
      },
      "source": [
        "# 1. Download the pre-scraped WeRateDogs Twitter archive  \n",
        " # Downloaded this file manually \n",
        "\n",
        "# 2. Download the tweet image predictions, i.e., what breed of dog (or other object, animal, etc.) is present in each tweet according to a neural network.  \n",
        "\n",
        "# 3. Using the tweet IDs in the WeRateDogs Twitter archive, query the Twitter API for each tweet's JSON data using Python's Tweepy library and store each tweet's entire set of JSON data in a file called tweet_json.txt file"
      ],
      "execution_count": null,
      "outputs": []
    }
  ]
}