{
  "nbformat": 4,
  "nbformat_minor": 0,
  "metadata": {
    "colab": {
      "name": "LittleCrackPopExercise.ipynb",
      "provenance": [],
      "authorship_tag": "ABX9TyNO9JcveoJOu6bcTnHUfQu6",
      "include_colab_link": true
    },
    "kernelspec": {
      "name": "python3",
      "display_name": "Python 3"
    }
  },
  "cells": [
    {
      "cell_type": "markdown",
      "metadata": {
        "id": "view-in-github",
        "colab_type": "text"
      },
      "source": [
        "<a href=\"https://colab.research.google.com/github/DonnaVakalis/nano/blob/master/LittleCrackPopExercise.ipynb\" target=\"_parent\"><img src=\"https://colab.research.google.com/assets/colab-badge.svg\" alt=\"Open In Colab\"/></a>"
      ]
    },
    {
      "cell_type": "markdown",
      "metadata": {
        "id": "jdWHTFt7sMTt"
      },
      "source": [
        "Code CracklePop \\\r\n",
        "Write a program that prints out the numbers 1 to 100 (inclusive). If the number is divisible by 3, print Crackle instead of the number. If it's divisible by 5, print Pop. If it's divisible by both 3 and 5, print CracklePop. You can use any language."
      ]
    },
    {
      "cell_type": "code",
      "metadata": {
        "colab": {
          "base_uri": "https://localhost:8080/"
        },
        "id": "wgnUcWzNsKRP",
        "outputId": "b0fdd175-735c-4fd1-a70c-fee5caf6b653"
      },
      "source": [
        "a = 1\r\n",
        "\r\n",
        "while a <= 100:\r\n",
        "\r\n",
        "    if (a%3 == 0) & (a%5 == 0):\r\n",
        "        print(\"CracklePop\")\r\n",
        "        a = a+1\r\n",
        "    elif a%3 == 0:\r\n",
        "        print(\"Crackle\")\r\n",
        "        a = a+1\r\n",
        "    elif a%5 ==0:\r\n",
        "       print(\"Pop\")\r\n",
        "       a = a+1\r\n",
        "    else:\r\n",
        "        print(a)\r\n",
        "        a = a+1"
      ],
      "execution_count": null,
      "outputs": [
        {
          "output_type": "stream",
          "text": [
            "1\n",
            "2\n",
            "Crackle\n",
            "4\n",
            "Pop\n",
            "Crackle\n",
            "7\n",
            "8\n",
            "Crackle\n",
            "Pop\n",
            "11\n",
            "Crackle\n",
            "13\n",
            "14\n",
            "CracklePop\n",
            "16\n",
            "17\n",
            "Crackle\n",
            "19\n",
            "Pop\n",
            "Crackle\n",
            "22\n",
            "23\n",
            "Crackle\n",
            "Pop\n",
            "26\n",
            "Crackle\n",
            "28\n",
            "29\n",
            "CracklePop\n",
            "31\n",
            "32\n",
            "Crackle\n",
            "34\n",
            "Pop\n",
            "Crackle\n",
            "37\n",
            "38\n",
            "Crackle\n",
            "Pop\n",
            "41\n",
            "Crackle\n",
            "43\n",
            "44\n",
            "CracklePop\n",
            "46\n",
            "47\n",
            "Crackle\n",
            "49\n",
            "Pop\n",
            "Crackle\n",
            "52\n",
            "53\n",
            "Crackle\n",
            "Pop\n",
            "56\n",
            "Crackle\n",
            "58\n",
            "59\n",
            "CracklePop\n",
            "61\n",
            "62\n",
            "Crackle\n",
            "64\n",
            "Pop\n",
            "Crackle\n",
            "67\n",
            "68\n",
            "Crackle\n",
            "Pop\n",
            "71\n",
            "Crackle\n",
            "73\n",
            "74\n",
            "CracklePop\n",
            "76\n",
            "77\n",
            "Crackle\n",
            "79\n",
            "Pop\n",
            "Crackle\n",
            "82\n",
            "83\n",
            "Crackle\n",
            "Pop\n",
            "86\n",
            "Crackle\n",
            "88\n",
            "89\n",
            "CracklePop\n",
            "91\n",
            "92\n",
            "Crackle\n",
            "94\n",
            "Pop\n",
            "Crackle\n",
            "97\n",
            "98\n",
            "Crackle\n",
            "Pop\n"
          ],
          "name": "stdout"
        }
      ]
    }
  ]
}