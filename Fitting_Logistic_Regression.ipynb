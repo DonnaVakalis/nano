{
  "nbformat": 4,
  "nbformat_minor": 0,
  "metadata": {
    "kernelspec": {
      "display_name": "Python 3",
      "language": "python",
      "name": "python3"
    },
    "language_info": {
      "codemirror_mode": {
        "name": "ipython",
        "version": 3
      },
      "file_extension": ".py",
      "mimetype": "text/x-python",
      "name": "python",
      "nbconvert_exporter": "python",
      "pygments_lexer": "ipython3",
      "version": "3.6.3"
    },
    "colab": {
      "name": "Fitting Logistic Regression.ipynb",
      "provenance": [],
      "include_colab_link": true
    }
  },
  "cells": [
    {
      "cell_type": "markdown",
      "metadata": {
        "id": "view-in-github",
        "colab_type": "text"
      },
      "source": [
        "<a href=\"https://colab.research.google.com/github/DonnaVakalis/nano/blob/master/Fitting_Logistic_Regression.ipynb\" target=\"_parent\"><img src=\"https://colab.research.google.com/assets/colab-badge.svg\" alt=\"Open In Colab\"/></a>"
      ]
    },
    {
      "cell_type": "markdown",
      "metadata": {
        "id": "af6pqYBn-bw-",
        "colab_type": "text"
      },
      "source": [
        "### Fitting Logistic Regression\n",
        "\n",
        "In this first notebook, you will be fitting a logistic regression model to a dataset where we would like to predict if a transaction is fraud or not.\n",
        "\n",
        "To get started let's read in the libraries and take a quick look at the dataset."
      ]
    },
    {
      "cell_type": "code",
      "metadata": {
        "id": "NcysWPC6-bw_",
        "colab_type": "code",
        "colab": {},
        "outputId": "bc340e76-cfda-4028-df6b-dca83f483299"
      },
      "source": [
        "import numpy as np\n",
        "import pandas as pd\n",
        "import statsmodels.api as sm\n",
        "import math\n",
        "\n",
        "df = pd.read_csv('./fraud_dataset.csv')"
      ],
      "execution_count": null,
      "outputs": [
        {
          "output_type": "stream",
          "text": [
            "/opt/conda/lib/python3.6/site-packages/statsmodels/compat/pandas.py:56: FutureWarning: The pandas.core.datetools module is deprecated and will be removed in a future version. Please use the pandas.tseries module instead.\n",
            "  from pandas.core import datetools\n"
          ],
          "name": "stderr"
        }
      ]
    },
    {
      "cell_type": "markdown",
      "metadata": {
        "id": "HnOo82es-bxG",
        "colab_type": "text"
      },
      "source": [
        "`1.` As you can see, there are two columns that need to be changed to dummy variables.  Replace each of the current columns to the dummy version.  Use the 1 for `weekday` and `True`, and 0 otherwise.  Use the first quiz to answer a few questions about the dataset."
      ]
    },
    {
      "cell_type": "code",
      "metadata": {
        "id": "bMZ-ezaq-bxH",
        "colab_type": "code",
        "colab": {},
        "outputId": "d3ada3eb-9e41-4fbe-ad5d-4cc1eb087267"
      },
      "source": [
        "df['intercept'] = 1\n",
        "df[['weekday','weekend']] = pd.get_dummies(df['day'])\n",
        "df[['False','True']] = pd.get_dummies(df['fraud'])\n",
        "df.head()"
      ],
      "execution_count": null,
      "outputs": [
        {
          "output_type": "execute_result",
          "data": {
            "text/html": [
              "<div>\n",
              "<style scoped>\n",
              "    .dataframe tbody tr th:only-of-type {\n",
              "        vertical-align: middle;\n",
              "    }\n",
              "\n",
              "    .dataframe tbody tr th {\n",
              "        vertical-align: top;\n",
              "    }\n",
              "\n",
              "    .dataframe thead th {\n",
              "        text-align: right;\n",
              "    }\n",
              "</style>\n",
              "<table border=\"1\" class=\"dataframe\">\n",
              "  <thead>\n",
              "    <tr style=\"text-align: right;\">\n",
              "      <th></th>\n",
              "      <th>transaction_id</th>\n",
              "      <th>duration</th>\n",
              "      <th>day</th>\n",
              "      <th>fraud</th>\n",
              "      <th>intercept</th>\n",
              "      <th>weekday</th>\n",
              "      <th>weekend</th>\n",
              "      <th>False</th>\n",
              "      <th>True</th>\n",
              "    </tr>\n",
              "  </thead>\n",
              "  <tbody>\n",
              "    <tr>\n",
              "      <th>0</th>\n",
              "      <td>28891</td>\n",
              "      <td>21.302600</td>\n",
              "      <td>weekend</td>\n",
              "      <td>False</td>\n",
              "      <td>1</td>\n",
              "      <td>0</td>\n",
              "      <td>1</td>\n",
              "      <td>1</td>\n",
              "      <td>0</td>\n",
              "    </tr>\n",
              "    <tr>\n",
              "      <th>1</th>\n",
              "      <td>61629</td>\n",
              "      <td>22.932765</td>\n",
              "      <td>weekend</td>\n",
              "      <td>False</td>\n",
              "      <td>1</td>\n",
              "      <td>0</td>\n",
              "      <td>1</td>\n",
              "      <td>1</td>\n",
              "      <td>0</td>\n",
              "    </tr>\n",
              "    <tr>\n",
              "      <th>2</th>\n",
              "      <td>53707</td>\n",
              "      <td>32.694992</td>\n",
              "      <td>weekday</td>\n",
              "      <td>False</td>\n",
              "      <td>1</td>\n",
              "      <td>1</td>\n",
              "      <td>0</td>\n",
              "      <td>1</td>\n",
              "      <td>0</td>\n",
              "    </tr>\n",
              "    <tr>\n",
              "      <th>3</th>\n",
              "      <td>47812</td>\n",
              "      <td>32.784252</td>\n",
              "      <td>weekend</td>\n",
              "      <td>False</td>\n",
              "      <td>1</td>\n",
              "      <td>0</td>\n",
              "      <td>1</td>\n",
              "      <td>1</td>\n",
              "      <td>0</td>\n",
              "    </tr>\n",
              "    <tr>\n",
              "      <th>4</th>\n",
              "      <td>43455</td>\n",
              "      <td>17.756828</td>\n",
              "      <td>weekend</td>\n",
              "      <td>False</td>\n",
              "      <td>1</td>\n",
              "      <td>0</td>\n",
              "      <td>1</td>\n",
              "      <td>1</td>\n",
              "      <td>0</td>\n",
              "    </tr>\n",
              "  </tbody>\n",
              "</table>\n",
              "</div>"
            ],
            "text/plain": [
              "   transaction_id   duration      day  fraud  intercept  weekday  weekend  \\\n",
              "0           28891  21.302600  weekend  False          1        0        1   \n",
              "1           61629  22.932765  weekend  False          1        0        1   \n",
              "2           53707  32.694992  weekday  False          1        1        0   \n",
              "3           47812  32.784252  weekend  False          1        0        1   \n",
              "4           43455  17.756828  weekend  False          1        0        1   \n",
              "\n",
              "   False  True  \n",
              "0      1     0  \n",
              "1      1     0  \n",
              "2      1     0  \n",
              "3      1     0  \n",
              "4      1     0  "
            ]
          },
          "metadata": {
            "tags": []
          },
          "execution_count": 2
        }
      ]
    },
    {
      "cell_type": "code",
      "metadata": {
        "id": "Pio0DhZH-bxM",
        "colab_type": "code",
        "colab": {},
        "outputId": "e7ee7351-ca41-404d-91b8-c9ea2043043a"
      },
      "source": [
        "# proportion of fraudulent transactions\n",
        "df['True'].mean()"
      ],
      "execution_count": null,
      "outputs": [
        {
          "output_type": "execute_result",
          "data": {
            "text/plain": [
              "0.012168770612987604"
            ]
          },
          "metadata": {
            "tags": []
          },
          "execution_count": 3
        }
      ]
    },
    {
      "cell_type": "code",
      "metadata": {
        "id": "FqGlF7RB-bxR",
        "colab_type": "code",
        "colab": {},
        "outputId": "e6d371e6-2c80-4da4-b156-b3ad20fc6e11"
      },
      "source": [
        "# ave duration for fraudulent trans\n",
        "df[df['True']==1]['duration'].mean()"
      ],
      "execution_count": null,
      "outputs": [
        {
          "output_type": "execute_result",
          "data": {
            "text/plain": [
              "4.6242473706156568"
            ]
          },
          "metadata": {
            "tags": []
          },
          "execution_count": 4
        }
      ]
    },
    {
      "cell_type": "code",
      "metadata": {
        "id": "HcX2zgYx-bxW",
        "colab_type": "code",
        "colab": {},
        "outputId": "2dd07724-0c64-462e-d372-52d9efd5dbea"
      },
      "source": [
        "# proportion of weekday trans\n",
        "df['weekday'].mean()"
      ],
      "execution_count": null,
      "outputs": [
        {
          "output_type": "execute_result",
          "data": {
            "text/plain": [
              "0.34527465029000343"
            ]
          },
          "metadata": {
            "tags": []
          },
          "execution_count": 5
        }
      ]
    },
    {
      "cell_type": "code",
      "metadata": {
        "id": "TWDHosYq-bxZ",
        "colab_type": "code",
        "colab": {},
        "outputId": "cad54668-b989-4ca3-95c6-982c07ee80f7"
      },
      "source": [
        "# ave duration for non-fraudent trans\n",
        "df[df['True']==0]['duration'].mean()"
      ],
      "execution_count": null,
      "outputs": [
        {
          "output_type": "execute_result",
          "data": {
            "text/plain": [
              "30.013583132522555"
            ]
          },
          "metadata": {
            "tags": []
          },
          "execution_count": 6
        }
      ]
    },
    {
      "cell_type": "markdown",
      "metadata": {
        "id": "80t9KDWj-bxc",
        "colab_type": "text"
      },
      "source": [
        "`2.` Now that you have dummy variables, fit a logistic regression model to predict if a transaction is fraud using both day and duration.  Don't forget an intercept!  Use the second quiz below to assure you fit the model correctly."
      ]
    },
    {
      "cell_type": "code",
      "metadata": {
        "id": "UpgDuLU--bxc",
        "colab_type": "code",
        "colab": {}
      },
      "source": [
        "model = sm.Logit(df['True'], df[['intercept','weekday','duration']])"
      ],
      "execution_count": null,
      "outputs": []
    },
    {
      "cell_type": "code",
      "metadata": {
        "id": "uUcYNr9t-bxh",
        "colab_type": "code",
        "colab": {},
        "outputId": "628b8d94-54a7-4d5b-c419-122fdfb8f6d6"
      },
      "source": [
        "results = model.fit()"
      ],
      "execution_count": null,
      "outputs": [
        {
          "output_type": "stream",
          "text": [
            "Optimization terminated successfully.\n",
            "         Current function value: inf\n",
            "         Iterations 16\n"
          ],
          "name": "stdout"
        },
        {
          "output_type": "stream",
          "text": [
            "/opt/conda/lib/python3.6/site-packages/statsmodels/discrete/discrete_model.py:1214: RuntimeWarning: overflow encountered in exp\n",
            "  return 1/(1+np.exp(-X))\n",
            "/opt/conda/lib/python3.6/site-packages/statsmodels/discrete/discrete_model.py:1264: RuntimeWarning: divide by zero encountered in log\n",
            "  return np.sum(np.log(self.cdf(q*np.dot(X,params))))\n"
          ],
          "name": "stderr"
        }
      ]
    },
    {
      "cell_type": "code",
      "metadata": {
        "id": "-OXpwoZi-bxk",
        "colab_type": "code",
        "colab": {},
        "outputId": "c372ffb4-a38d-403a-e355-5814eb6e796c"
      },
      "source": [
        "results.summary2()"
      ],
      "execution_count": null,
      "outputs": [
        {
          "output_type": "stream",
          "text": [
            "/opt/conda/lib/python3.6/site-packages/statsmodels/discrete/discrete_model.py:1214: RuntimeWarning: overflow encountered in exp\n",
            "  return 1/(1+np.exp(-X))\n",
            "/opt/conda/lib/python3.6/site-packages/statsmodels/discrete/discrete_model.py:1264: RuntimeWarning: divide by zero encountered in log\n",
            "  return np.sum(np.log(self.cdf(q*np.dot(X,params))))\n",
            "/opt/conda/lib/python3.6/site-packages/statsmodels/discrete/discrete_model.py:2397: RuntimeWarning: invalid value encountered in double_scalars\n",
            "  return 1 - self.llf/self.llnull\n"
          ],
          "name": "stderr"
        },
        {
          "output_type": "execute_result",
          "data": {
            "text/html": [
              "<table class=\"simpletable\">\n",
              "<tr>\n",
              "        <td>Model:</td>              <td>Logit</td>       <td>No. Iterations:</td>  <td>16.0000</td>\n",
              "</tr>\n",
              "<tr>\n",
              "  <td>Dependent Variable:</td>       <td>True</td>       <td>Pseudo R-squared:</td>   <td>nan</td>  \n",
              "</tr>\n",
              "<tr>\n",
              "         <td>Date:</td>        <td>2020-09-07 19:05</td>       <td>AIC:</td>          <td>inf</td>  \n",
              "</tr>\n",
              "<tr>\n",
              "   <td>No. Observations:</td>        <td>8793</td>             <td>BIC:</td>          <td>inf</td>  \n",
              "</tr>\n",
              "<tr>\n",
              "       <td>Df Model:</td>              <td>2</td>         <td>Log-Likelihood:</td>   <td>-inf</td>  \n",
              "</tr>\n",
              "<tr>\n",
              "     <td>Df Residuals:</td>          <td>8790</td>           <td>LL-Null:</td>       <td>-inf</td>  \n",
              "</tr>\n",
              "<tr>\n",
              "      <td>Converged:</td>           <td>1.0000</td>           <td>Scale:</td>       <td>1.0000</td> \n",
              "</tr>\n",
              "</table>\n",
              "<table class=\"simpletable\">\n",
              "<tr>\n",
              "      <td></td>       <th>Coef.</th>  <th>Std.Err.</th>    <th>z</th>     <th>P>|z|</th> <th>[0.025</th>  <th>0.975]</th> \n",
              "</tr>\n",
              "<tr>\n",
              "  <th>intercept</th> <td>9.8709</td>   <td>1.9438</td>  <td>5.0783</td>  <td>0.0000</td> <td>6.0613</td>  <td>13.6806</td>\n",
              "</tr>\n",
              "<tr>\n",
              "  <th>weekday</th>   <td>2.5465</td>   <td>0.9043</td>  <td>2.8160</td>  <td>0.0049</td> <td>0.7741</td>  <td>4.3188</td> \n",
              "</tr>\n",
              "<tr>\n",
              "  <th>duration</th>  <td>-1.4637</td>  <td>0.2905</td>  <td>-5.0389</td> <td>0.0000</td> <td>-2.0331</td> <td>-0.8944</td>\n",
              "</tr>\n",
              "</table>"
            ],
            "text/plain": [
              "<class 'statsmodels.iolib.summary2.Summary'>\n",
              "\"\"\"\n",
              "                        Results: Logit\n",
              "==============================================================\n",
              "Model:              Logit            No. Iterations:   16.0000\n",
              "Dependent Variable: True             Pseudo R-squared: nan    \n",
              "Date:               2020-09-07 19:05 AIC:              inf    \n",
              "No. Observations:   8793             BIC:              inf    \n",
              "Df Model:           2                Log-Likelihood:   -inf   \n",
              "Df Residuals:       8790             LL-Null:          -inf   \n",
              "Converged:          1.0000           Scale:            1.0000 \n",
              "---------------------------------------------------------------\n",
              "            Coef.   Std.Err.     z     P>|z|    [0.025   0.975]\n",
              "---------------------------------------------------------------\n",
              "intercept   9.8709    1.9438   5.0783  0.0000   6.0613  13.6806\n",
              "weekday     2.5465    0.9043   2.8160  0.0049   0.7741   4.3188\n",
              "duration   -1.4637    0.2905  -5.0389  0.0000  -2.0331  -0.8944\n",
              "==============================================================\n",
              "\n",
              "\"\"\""
            ]
          },
          "metadata": {
            "tags": []
          },
          "execution_count": 9
        }
      ]
    },
    {
      "cell_type": "code",
      "metadata": {
        "id": "o_PU2tc6-bxo",
        "colab_type": "code",
        "colab": {},
        "outputId": "b7ec6f46-d611-4094-f83b-168b26963892"
      },
      "source": [
        "# another way of writing it\n",
        "Xtrain = df[['intercept', 'weekday', 'duration']] \n",
        "ytrain = df[['True']] \n",
        "   \n",
        "# building the model and fitting the data \n",
        "log_reg = sm.Logit(ytrain, Xtrain).fit() \n",
        "log_reg.summary2()"
      ],
      "execution_count": null,
      "outputs": [
        {
          "output_type": "stream",
          "text": [
            "Optimization terminated successfully.\n",
            "         Current function value: inf\n",
            "         Iterations 16\n"
          ],
          "name": "stdout"
        },
        {
          "output_type": "stream",
          "text": [
            "/opt/conda/lib/python3.6/site-packages/statsmodels/discrete/discrete_model.py:1214: RuntimeWarning: overflow encountered in exp\n",
            "  return 1/(1+np.exp(-X))\n",
            "/opt/conda/lib/python3.6/site-packages/statsmodels/discrete/discrete_model.py:1264: RuntimeWarning: divide by zero encountered in log\n",
            "  return np.sum(np.log(self.cdf(q*np.dot(X,params))))\n",
            "/opt/conda/lib/python3.6/site-packages/statsmodels/discrete/discrete_model.py:2397: RuntimeWarning: invalid value encountered in double_scalars\n",
            "  return 1 - self.llf/self.llnull\n"
          ],
          "name": "stderr"
        },
        {
          "output_type": "execute_result",
          "data": {
            "text/html": [
              "<table class=\"simpletable\">\n",
              "<tr>\n",
              "        <td>Model:</td>              <td>Logit</td>       <td>No. Iterations:</td>  <td>16.0000</td>\n",
              "</tr>\n",
              "<tr>\n",
              "  <td>Dependent Variable:</td>       <td>True</td>       <td>Pseudo R-squared:</td>   <td>nan</td>  \n",
              "</tr>\n",
              "<tr>\n",
              "         <td>Date:</td>        <td>2020-09-07 19:05</td>       <td>AIC:</td>          <td>inf</td>  \n",
              "</tr>\n",
              "<tr>\n",
              "   <td>No. Observations:</td>        <td>8793</td>             <td>BIC:</td>          <td>inf</td>  \n",
              "</tr>\n",
              "<tr>\n",
              "       <td>Df Model:</td>              <td>2</td>         <td>Log-Likelihood:</td>   <td>-inf</td>  \n",
              "</tr>\n",
              "<tr>\n",
              "     <td>Df Residuals:</td>          <td>8790</td>           <td>LL-Null:</td>       <td>-inf</td>  \n",
              "</tr>\n",
              "<tr>\n",
              "      <td>Converged:</td>           <td>1.0000</td>           <td>Scale:</td>       <td>1.0000</td> \n",
              "</tr>\n",
              "</table>\n",
              "<table class=\"simpletable\">\n",
              "<tr>\n",
              "      <td></td>       <th>Coef.</th>  <th>Std.Err.</th>    <th>z</th>     <th>P>|z|</th> <th>[0.025</th>  <th>0.975]</th> \n",
              "</tr>\n",
              "<tr>\n",
              "  <th>intercept</th> <td>9.8709</td>   <td>1.9438</td>  <td>5.0783</td>  <td>0.0000</td> <td>6.0613</td>  <td>13.6806</td>\n",
              "</tr>\n",
              "<tr>\n",
              "  <th>weekday</th>   <td>2.5465</td>   <td>0.9043</td>  <td>2.8160</td>  <td>0.0049</td> <td>0.7741</td>  <td>4.3188</td> \n",
              "</tr>\n",
              "<tr>\n",
              "  <th>duration</th>  <td>-1.4637</td>  <td>0.2905</td>  <td>-5.0389</td> <td>0.0000</td> <td>-2.0331</td> <td>-0.8944</td>\n",
              "</tr>\n",
              "</table>"
            ],
            "text/plain": [
              "<class 'statsmodels.iolib.summary2.Summary'>\n",
              "\"\"\"\n",
              "                        Results: Logit\n",
              "==============================================================\n",
              "Model:              Logit            No. Iterations:   16.0000\n",
              "Dependent Variable: True             Pseudo R-squared: nan    \n",
              "Date:               2020-09-07 19:05 AIC:              inf    \n",
              "No. Observations:   8793             BIC:              inf    \n",
              "Df Model:           2                Log-Likelihood:   -inf   \n",
              "Df Residuals:       8790             LL-Null:          -inf   \n",
              "Converged:          1.0000           Scale:            1.0000 \n",
              "---------------------------------------------------------------\n",
              "            Coef.   Std.Err.     z     P>|z|    [0.025   0.975]\n",
              "---------------------------------------------------------------\n",
              "intercept   9.8709    1.9438   5.0783  0.0000   6.0613  13.6806\n",
              "weekday     2.5465    0.9043   2.8160  0.0049   0.7741   4.3188\n",
              "duration   -1.4637    0.2905  -5.0389  0.0000  -2.0331  -0.8944\n",
              "==============================================================\n",
              "\n",
              "\"\"\""
            ]
          },
          "metadata": {
            "tags": []
          },
          "execution_count": 10
        }
      ]
    },
    {
      "cell_type": "code",
      "metadata": {
        "id": "n-cua0OL-bxq",
        "colab_type": "code",
        "colab": {},
        "outputId": "c83f38f7-844d-4ad8-fedf-548624049be9"
      },
      "source": [
        "# how much more likely on weekdays\n",
        "math.exp(2.5465)"
      ],
      "execution_count": null,
      "outputs": [
        {
          "output_type": "execute_result",
          "data": {
            "text/plain": [
              "12.762357271496972"
            ]
          },
          "metadata": {
            "tags": []
          },
          "execution_count": 12
        }
      ]
    },
    {
      "cell_type": "code",
      "metadata": {
        "id": "AQCxSGIT-bxu",
        "colab_type": "code",
        "colab": {},
        "outputId": "ca2f2ded-121a-458d-a8de-6b32494c6b99"
      },
      "source": [
        "# how much more likely for each minute less \n",
        "1/math.exp(-1.4637)"
      ],
      "execution_count": null,
      "outputs": [
        {
          "output_type": "execute_result",
          "data": {
            "text/plain": [
              "4.321921089278333"
            ]
          },
          "metadata": {
            "tags": []
          },
          "execution_count": 15
        }
      ]
    },
    {
      "cell_type": "code",
      "metadata": {
        "id": "b59m4_3D-bxy",
        "colab_type": "code",
        "colab": {}
      },
      "source": [
        ""
      ],
      "execution_count": null,
      "outputs": []
    },
    {
      "cell_type": "code",
      "metadata": {
        "id": "SoENDIlE-bx1",
        "colab_type": "code",
        "colab": {}
      },
      "source": [
        ""
      ],
      "execution_count": null,
      "outputs": []
    }
  ]
}